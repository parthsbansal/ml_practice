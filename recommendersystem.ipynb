{
 "cells": [
  {
   "cell_type": "markdown",
   "id": "00b6a0de",
   "metadata": {},
   "source": [
    "# Assignment 5 - Recommender System and NN with numpy"
   ]
  },
  {
   "cell_type": "code",
   "execution_count": 27,
   "id": "08022cde",
   "metadata": {},
   "outputs": [],
   "source": [
    "import pandas as pd \n",
    "import numpy as np\n",
    "from sklearn.model_selection import train_test_split\n",
    "from sklearn.metrics.pairwise import cosine_similarity\n",
    "# from scipy.spatial.distance import cosine\n",
    "from sklearn.datasets import make_gaussian_quantiles\n",
    "import matplotlib.pyplot as plt\n",
    "import sklearn\n",
    "from sklearn.linear_model import LogisticRegression\n",
    "\n",
    "import warnings\n",
    "warnings.filterwarnings(\"ignore\")"
   ]
  },
  {
   "cell_type": "code",
   "execution_count": 2,
   "id": "6fca9c6e",
   "metadata": {},
   "outputs": [],
   "source": [
    "df = pd.read_csv('/Users/parthbansal/Downloads/radio_songs.csv')"
   ]
  },
  {
   "cell_type": "code",
   "execution_count": 23,
   "id": "4edc335d",
   "metadata": {},
   "outputs": [
    {
     "data": {
      "text/html": [
       "<div>\n",
       "<style scoped>\n",
       "    .dataframe tbody tr th:only-of-type {\n",
       "        vertical-align: middle;\n",
       "    }\n",
       "\n",
       "    .dataframe tbody tr th {\n",
       "        vertical-align: top;\n",
       "    }\n",
       "\n",
       "    .dataframe thead th {\n",
       "        text-align: right;\n",
       "    }\n",
       "</style>\n",
       "<table border=\"1\" class=\"dataframe\">\n",
       "  <thead>\n",
       "    <tr style=\"text-align: right;\">\n",
       "      <th></th>\n",
       "      <th>abba</th>\n",
       "      <th>ac/dc</th>\n",
       "      <th>adam green</th>\n",
       "      <th>aerosmith</th>\n",
       "      <th>afi</th>\n",
       "      <th>air</th>\n",
       "      <th>alanis morissette</th>\n",
       "      <th>alexisonfire</th>\n",
       "      <th>alicia keys</th>\n",
       "      <th>all that remains</th>\n",
       "      <th>...</th>\n",
       "      <th>timbaland</th>\n",
       "      <th>tom waits</th>\n",
       "      <th>tool</th>\n",
       "      <th>tori amos</th>\n",
       "      <th>travis</th>\n",
       "      <th>trivium</th>\n",
       "      <th>u2</th>\n",
       "      <th>underoath</th>\n",
       "      <th>volbeat</th>\n",
       "      <th>yann tiersen</th>\n",
       "    </tr>\n",
       "    <tr>\n",
       "      <th>user</th>\n",
       "      <th></th>\n",
       "      <th></th>\n",
       "      <th></th>\n",
       "      <th></th>\n",
       "      <th></th>\n",
       "      <th></th>\n",
       "      <th></th>\n",
       "      <th></th>\n",
       "      <th></th>\n",
       "      <th></th>\n",
       "      <th></th>\n",
       "      <th></th>\n",
       "      <th></th>\n",
       "      <th></th>\n",
       "      <th></th>\n",
       "      <th></th>\n",
       "      <th></th>\n",
       "      <th></th>\n",
       "      <th></th>\n",
       "      <th></th>\n",
       "      <th></th>\n",
       "    </tr>\n",
       "  </thead>\n",
       "  <tbody>\n",
       "    <tr>\n",
       "      <th>1381</th>\n",
       "      <td>0</td>\n",
       "      <td>0</td>\n",
       "      <td>0</td>\n",
       "      <td>0</td>\n",
       "      <td>0</td>\n",
       "      <td>0</td>\n",
       "      <td>0</td>\n",
       "      <td>0</td>\n",
       "      <td>0</td>\n",
       "      <td>0</td>\n",
       "      <td>...</td>\n",
       "      <td>0</td>\n",
       "      <td>0</td>\n",
       "      <td>0</td>\n",
       "      <td>0</td>\n",
       "      <td>0</td>\n",
       "      <td>0</td>\n",
       "      <td>0</td>\n",
       "      <td>0</td>\n",
       "      <td>0</td>\n",
       "      <td>0</td>\n",
       "    </tr>\n",
       "    <tr>\n",
       "      <th>953</th>\n",
       "      <td>0</td>\n",
       "      <td>0</td>\n",
       "      <td>0</td>\n",
       "      <td>0</td>\n",
       "      <td>0</td>\n",
       "      <td>0</td>\n",
       "      <td>0</td>\n",
       "      <td>0</td>\n",
       "      <td>0</td>\n",
       "      <td>0</td>\n",
       "      <td>...</td>\n",
       "      <td>0</td>\n",
       "      <td>0</td>\n",
       "      <td>0</td>\n",
       "      <td>0</td>\n",
       "      <td>0</td>\n",
       "      <td>0</td>\n",
       "      <td>0</td>\n",
       "      <td>0</td>\n",
       "      <td>0</td>\n",
       "      <td>0</td>\n",
       "    </tr>\n",
       "    <tr>\n",
       "      <th>1207</th>\n",
       "      <td>0</td>\n",
       "      <td>0</td>\n",
       "      <td>0</td>\n",
       "      <td>0</td>\n",
       "      <td>0</td>\n",
       "      <td>0</td>\n",
       "      <td>0</td>\n",
       "      <td>0</td>\n",
       "      <td>0</td>\n",
       "      <td>0</td>\n",
       "      <td>...</td>\n",
       "      <td>0</td>\n",
       "      <td>0</td>\n",
       "      <td>0</td>\n",
       "      <td>0</td>\n",
       "      <td>0</td>\n",
       "      <td>0</td>\n",
       "      <td>0</td>\n",
       "      <td>0</td>\n",
       "      <td>0</td>\n",
       "      <td>0</td>\n",
       "    </tr>\n",
       "    <tr>\n",
       "      <th>890</th>\n",
       "      <td>1</td>\n",
       "      <td>0</td>\n",
       "      <td>0</td>\n",
       "      <td>0</td>\n",
       "      <td>0</td>\n",
       "      <td>0</td>\n",
       "      <td>0</td>\n",
       "      <td>0</td>\n",
       "      <td>0</td>\n",
       "      <td>0</td>\n",
       "      <td>...</td>\n",
       "      <td>0</td>\n",
       "      <td>0</td>\n",
       "      <td>0</td>\n",
       "      <td>0</td>\n",
       "      <td>0</td>\n",
       "      <td>0</td>\n",
       "      <td>0</td>\n",
       "      <td>0</td>\n",
       "      <td>0</td>\n",
       "      <td>0</td>\n",
       "    </tr>\n",
       "    <tr>\n",
       "      <th>876</th>\n",
       "      <td>0</td>\n",
       "      <td>0</td>\n",
       "      <td>0</td>\n",
       "      <td>0</td>\n",
       "      <td>0</td>\n",
       "      <td>1</td>\n",
       "      <td>0</td>\n",
       "      <td>0</td>\n",
       "      <td>0</td>\n",
       "      <td>0</td>\n",
       "      <td>...</td>\n",
       "      <td>0</td>\n",
       "      <td>0</td>\n",
       "      <td>0</td>\n",
       "      <td>0</td>\n",
       "      <td>0</td>\n",
       "      <td>0</td>\n",
       "      <td>0</td>\n",
       "      <td>0</td>\n",
       "      <td>0</td>\n",
       "      <td>0</td>\n",
       "    </tr>\n",
       "  </tbody>\n",
       "</table>\n",
       "<p>5 rows × 284 columns</p>\n",
       "</div>"
      ],
      "text/plain": [
       "      abba  ac/dc  adam green  aerosmith  afi  air  alanis morissette  \\\n",
       "user                                                                    \n",
       "1381     0      0           0          0    0    0                  0   \n",
       "953      0      0           0          0    0    0                  0   \n",
       "1207     0      0           0          0    0    0                  0   \n",
       "890      1      0           0          0    0    0                  0   \n",
       "876      0      0           0          0    0    1                  0   \n",
       "\n",
       "      alexisonfire  alicia keys  all that remains  ...  timbaland  tom waits  \\\n",
       "user                                               ...                         \n",
       "1381             0            0                 0  ...          0          0   \n",
       "953              0            0                 0  ...          0          0   \n",
       "1207             0            0                 0  ...          0          0   \n",
       "890              0            0                 0  ...          0          0   \n",
       "876              0            0                 0  ...          0          0   \n",
       "\n",
       "      tool  tori amos  travis  trivium  u2  underoath  volbeat  yann tiersen  \n",
       "user                                                                          \n",
       "1381     0          0       0        0   0          0        0             0  \n",
       "953      0          0       0        0   0          0        0             0  \n",
       "1207     0          0       0        0   0          0        0             0  \n",
       "890      0          0       0        0   0          0        0             0  \n",
       "876      0          0       0        0   0          0        0             0  \n",
       "\n",
       "[5 rows x 284 columns]"
      ]
     },
     "execution_count": 23,
     "metadata": {},
     "output_type": "execute_result"
    }
   ],
   "source": [
    "df.sample(5, random_state = 42)"
   ]
  },
  {
   "cell_type": "code",
   "execution_count": 4,
   "id": "30ebaf1c",
   "metadata": {},
   "outputs": [
    {
     "data": {
      "text/plain": [
       "(100, 284)"
      ]
     },
     "execution_count": 4,
     "metadata": {},
     "output_type": "execute_result"
    }
   ],
   "source": [
    "# 100 users, 284 songs \n",
    "df.shape"
   ]
  },
  {
   "cell_type": "code",
   "execution_count": 5,
   "id": "ba535f63",
   "metadata": {},
   "outputs": [
    {
     "data": {
      "text/plain": [
       "abba            int64\n",
       "ac/dc           int64\n",
       "adam green      int64\n",
       "aerosmith       int64\n",
       "afi             int64\n",
       "                ...  \n",
       "trivium         int64\n",
       "u2              int64\n",
       "underoath       int64\n",
       "volbeat         int64\n",
       "yann tiersen    int64\n",
       "Length: 284, dtype: object"
      ]
     },
     "execution_count": 5,
     "metadata": {},
     "output_type": "execute_result"
    }
   ],
   "source": [
    "df.dtypes"
   ]
  },
  {
   "cell_type": "code",
   "execution_count": 6,
   "id": "2e4db9e6",
   "metadata": {},
   "outputs": [],
   "source": [
    "df.set_index('user', inplace=True)\n",
    "# songs = df.drop('user', axis = 1)"
   ]
  },
  {
   "cell_type": "code",
   "execution_count": 7,
   "id": "2171139b",
   "metadata": {},
   "outputs": [],
   "source": [
    "# matrix = songs.values"
   ]
  },
  {
   "cell_type": "code",
   "execution_count": 8,
   "id": "c1c06775",
   "metadata": {},
   "outputs": [],
   "source": [
    "# song_index = {song_names[i]: i for i in range(len(song_names))}"
   ]
  },
  {
   "cell_type": "markdown",
   "id": "52a5b157",
   "metadata": {},
   "source": [
    "## Collaborative Filtering"
   ]
  },
  {
   "cell_type": "code",
   "execution_count": 9,
   "id": "63ba9aee",
   "metadata": {},
   "outputs": [],
   "source": [
    "# Compute cosine similarity\n",
    "similar = pd.DataFrame(cosine_similarity(df.T), columns = df.columns, index = df.columns).reset_index()"
   ]
  },
  {
   "cell_type": "code",
   "execution_count": 10,
   "id": "56659632",
   "metadata": {},
   "outputs": [
    {
     "data": {
      "text/html": [
       "<div>\n",
       "<style scoped>\n",
       "    .dataframe tbody tr th:only-of-type {\n",
       "        vertical-align: middle;\n",
       "    }\n",
       "\n",
       "    .dataframe tbody tr th {\n",
       "        vertical-align: top;\n",
       "    }\n",
       "\n",
       "    .dataframe thead th {\n",
       "        text-align: right;\n",
       "    }\n",
       "</style>\n",
       "<table border=\"1\" class=\"dataframe\">\n",
       "  <thead>\n",
       "    <tr style=\"text-align: right;\">\n",
       "      <th></th>\n",
       "      <th>index</th>\n",
       "      <th>u2</th>\n",
       "    </tr>\n",
       "  </thead>\n",
       "  <tbody>\n",
       "    <tr>\n",
       "      <th>0</th>\n",
       "      <td>robbie williams</td>\n",
       "      <td>0.500000</td>\n",
       "    </tr>\n",
       "    <tr>\n",
       "      <th>1</th>\n",
       "      <td>misfits</td>\n",
       "      <td>0.500000</td>\n",
       "    </tr>\n",
       "    <tr>\n",
       "      <th>2</th>\n",
       "      <td>green day</td>\n",
       "      <td>0.433013</td>\n",
       "    </tr>\n",
       "    <tr>\n",
       "      <th>3</th>\n",
       "      <td>depeche mode</td>\n",
       "      <td>0.408248</td>\n",
       "    </tr>\n",
       "    <tr>\n",
       "      <th>4</th>\n",
       "      <td>peter fox</td>\n",
       "      <td>0.377964</td>\n",
       "    </tr>\n",
       "    <tr>\n",
       "      <th>5</th>\n",
       "      <td>madonna</td>\n",
       "      <td>0.353553</td>\n",
       "    </tr>\n",
       "    <tr>\n",
       "      <th>6</th>\n",
       "      <td>kelly clarkson</td>\n",
       "      <td>0.353553</td>\n",
       "    </tr>\n",
       "    <tr>\n",
       "      <th>7</th>\n",
       "      <td>johnny cash</td>\n",
       "      <td>0.353553</td>\n",
       "    </tr>\n",
       "    <tr>\n",
       "      <th>8</th>\n",
       "      <td>enter shikari</td>\n",
       "      <td>0.353553</td>\n",
       "    </tr>\n",
       "  </tbody>\n",
       "</table>\n",
       "</div>"
      ],
      "text/plain": [
       "             index        u2\n",
       "0  robbie williams  0.500000\n",
       "1          misfits  0.500000\n",
       "2        green day  0.433013\n",
       "3     depeche mode  0.408248\n",
       "4        peter fox  0.377964\n",
       "5          madonna  0.353553\n",
       "6   kelly clarkson  0.353553\n",
       "7      johnny cash  0.353553\n",
       "8    enter shikari  0.353553"
      ]
     },
     "execution_count": 10,
     "metadata": {},
     "output_type": "execute_result"
    }
   ],
   "source": [
    "# A. Recommend 10 songs to users who have listened to 'u2' and 'pink floyd'.\n",
    "similar.nlargest(10, 'u2', keep='last').iloc[1:][['index', 'u2']].reset_index(drop = True)"
   ]
  },
  {
   "cell_type": "code",
   "execution_count": 11,
   "id": "6cd98bed",
   "metadata": {},
   "outputs": [
    {
     "data": {
      "text/html": [
       "<div>\n",
       "<style scoped>\n",
       "    .dataframe tbody tr th:only-of-type {\n",
       "        vertical-align: middle;\n",
       "    }\n",
       "\n",
       "    .dataframe tbody tr th {\n",
       "        vertical-align: top;\n",
       "    }\n",
       "\n",
       "    .dataframe thead th {\n",
       "        text-align: right;\n",
       "    }\n",
       "</style>\n",
       "<table border=\"1\" class=\"dataframe\">\n",
       "  <thead>\n",
       "    <tr style=\"text-align: right;\">\n",
       "      <th></th>\n",
       "      <th>index</th>\n",
       "      <th>pink floyd</th>\n",
       "    </tr>\n",
       "  </thead>\n",
       "  <tbody>\n",
       "    <tr>\n",
       "      <th>0</th>\n",
       "      <td>genesis</td>\n",
       "      <td>0.577350</td>\n",
       "    </tr>\n",
       "    <tr>\n",
       "      <th>1</th>\n",
       "      <td>david bowie</td>\n",
       "      <td>0.408248</td>\n",
       "    </tr>\n",
       "    <tr>\n",
       "      <th>2</th>\n",
       "      <td>funeral for a friend</td>\n",
       "      <td>0.408248</td>\n",
       "    </tr>\n",
       "    <tr>\n",
       "      <th>3</th>\n",
       "      <td>hans zimmer</td>\n",
       "      <td>0.408248</td>\n",
       "    </tr>\n",
       "    <tr>\n",
       "      <th>4</th>\n",
       "      <td>led zeppelin</td>\n",
       "      <td>0.408248</td>\n",
       "    </tr>\n",
       "    <tr>\n",
       "      <th>5</th>\n",
       "      <td>queen</td>\n",
       "      <td>0.408248</td>\n",
       "    </tr>\n",
       "    <tr>\n",
       "      <th>6</th>\n",
       "      <td>sonic syndicate</td>\n",
       "      <td>0.408248</td>\n",
       "    </tr>\n",
       "    <tr>\n",
       "      <th>7</th>\n",
       "      <td>coldplay</td>\n",
       "      <td>0.348155</td>\n",
       "    </tr>\n",
       "    <tr>\n",
       "      <th>8</th>\n",
       "      <td>bob dylan</td>\n",
       "      <td>0.333333</td>\n",
       "    </tr>\n",
       "    <tr>\n",
       "      <th>9</th>\n",
       "      <td>howard shore</td>\n",
       "      <td>0.333333</td>\n",
       "    </tr>\n",
       "  </tbody>\n",
       "</table>\n",
       "</div>"
      ],
      "text/plain": [
       "                  index  pink floyd\n",
       "0               genesis    0.577350\n",
       "1           david bowie    0.408248\n",
       "2  funeral for a friend    0.408248\n",
       "3           hans zimmer    0.408248\n",
       "4          led zeppelin    0.408248\n",
       "5                 queen    0.408248\n",
       "6       sonic syndicate    0.408248\n",
       "7              coldplay    0.348155\n",
       "8             bob dylan    0.333333\n",
       "9          howard shore    0.333333"
      ]
     },
     "execution_count": 11,
     "metadata": {},
     "output_type": "execute_result"
    }
   ],
   "source": [
    "similar.loc[similar['index'] != 'pink floyd', ['index', 'pink floyd']].nlargest(10, 'pink floyd').reset_index(drop = True)"
   ]
  },
  {
   "cell_type": "code",
   "execution_count": 12,
   "id": "dcf0ed2c",
   "metadata": {},
   "outputs": [
    {
     "data": {
      "text/html": [
       "<div>\n",
       "<style scoped>\n",
       "    .dataframe tbody tr th:only-of-type {\n",
       "        vertical-align: middle;\n",
       "    }\n",
       "\n",
       "    .dataframe tbody tr th {\n",
       "        vertical-align: top;\n",
       "    }\n",
       "\n",
       "    .dataframe thead th {\n",
       "        text-align: right;\n",
       "    }\n",
       "</style>\n",
       "<table border=\"1\" class=\"dataframe\">\n",
       "  <thead>\n",
       "    <tr style=\"text-align: right;\">\n",
       "      <th>user</th>\n",
       "      <th>user</th>\n",
       "      <th>1</th>\n",
       "      <th>33</th>\n",
       "      <th>42</th>\n",
       "      <th>51</th>\n",
       "      <th>62</th>\n",
       "      <th>75</th>\n",
       "      <th>130</th>\n",
       "      <th>141</th>\n",
       "      <th>144</th>\n",
       "      <th>...</th>\n",
       "      <th>1521</th>\n",
       "      <th>1530</th>\n",
       "      <th>1536</th>\n",
       "      <th>1545</th>\n",
       "      <th>1549</th>\n",
       "      <th>1566</th>\n",
       "      <th>1586</th>\n",
       "      <th>1589</th>\n",
       "      <th>1601</th>\n",
       "      <th>1606</th>\n",
       "    </tr>\n",
       "  </thead>\n",
       "  <tbody>\n",
       "    <tr>\n",
       "      <th>0</th>\n",
       "      <td>1</td>\n",
       "      <td>1.000000</td>\n",
       "      <td>0.061546</td>\n",
       "      <td>0.000000</td>\n",
       "      <td>0.000000</td>\n",
       "      <td>0.083624</td>\n",
       "      <td>0.000000</td>\n",
       "      <td>0.0</td>\n",
       "      <td>0.000000</td>\n",
       "      <td>0.000000</td>\n",
       "      <td>...</td>\n",
       "      <td>0.1066</td>\n",
       "      <td>0.0</td>\n",
       "      <td>0.000000</td>\n",
       "      <td>0.190693</td>\n",
       "      <td>0.000000</td>\n",
       "      <td>0.0</td>\n",
       "      <td>0.000000</td>\n",
       "      <td>0.000000</td>\n",
       "      <td>0.000000</td>\n",
       "      <td>0.0</td>\n",
       "    </tr>\n",
       "    <tr>\n",
       "      <th>1</th>\n",
       "      <td>33</td>\n",
       "      <td>0.061546</td>\n",
       "      <td>1.000000</td>\n",
       "      <td>0.077152</td>\n",
       "      <td>0.247537</td>\n",
       "      <td>0.226455</td>\n",
       "      <td>0.176777</td>\n",
       "      <td>0.0</td>\n",
       "      <td>0.000000</td>\n",
       "      <td>0.000000</td>\n",
       "      <td>...</td>\n",
       "      <td>0.0000</td>\n",
       "      <td>0.0</td>\n",
       "      <td>0.064550</td>\n",
       "      <td>0.193649</td>\n",
       "      <td>0.000000</td>\n",
       "      <td>0.0</td>\n",
       "      <td>0.045644</td>\n",
       "      <td>0.000000</td>\n",
       "      <td>0.091287</td>\n",
       "      <td>0.0</td>\n",
       "    </tr>\n",
       "    <tr>\n",
       "      <th>2</th>\n",
       "      <td>42</td>\n",
       "      <td>0.000000</td>\n",
       "      <td>0.077152</td>\n",
       "      <td>1.000000</td>\n",
       "      <td>0.000000</td>\n",
       "      <td>0.000000</td>\n",
       "      <td>0.000000</td>\n",
       "      <td>0.0</td>\n",
       "      <td>0.091670</td>\n",
       "      <td>0.000000</td>\n",
       "      <td>...</td>\n",
       "      <td>0.0000</td>\n",
       "      <td>0.0</td>\n",
       "      <td>0.000000</td>\n",
       "      <td>0.000000</td>\n",
       "      <td>0.094491</td>\n",
       "      <td>0.0</td>\n",
       "      <td>0.000000</td>\n",
       "      <td>0.125988</td>\n",
       "      <td>0.000000</td>\n",
       "      <td>0.0</td>\n",
       "    </tr>\n",
       "    <tr>\n",
       "      <th>3</th>\n",
       "      <td>51</td>\n",
       "      <td>0.000000</td>\n",
       "      <td>0.247537</td>\n",
       "      <td>0.000000</td>\n",
       "      <td>1.000000</td>\n",
       "      <td>0.336336</td>\n",
       "      <td>0.140028</td>\n",
       "      <td>0.0</td>\n",
       "      <td>0.000000</td>\n",
       "      <td>0.108465</td>\n",
       "      <td>...</td>\n",
       "      <td>0.0000</td>\n",
       "      <td>0.0</td>\n",
       "      <td>0.076696</td>\n",
       "      <td>0.000000</td>\n",
       "      <td>0.000000</td>\n",
       "      <td>0.0</td>\n",
       "      <td>0.000000</td>\n",
       "      <td>0.000000</td>\n",
       "      <td>0.000000</td>\n",
       "      <td>0.0</td>\n",
       "    </tr>\n",
       "    <tr>\n",
       "      <th>4</th>\n",
       "      <td>62</td>\n",
       "      <td>0.083624</td>\n",
       "      <td>0.226455</td>\n",
       "      <td>0.000000</td>\n",
       "      <td>0.336336</td>\n",
       "      <td>1.000000</td>\n",
       "      <td>0.160128</td>\n",
       "      <td>0.0</td>\n",
       "      <td>0.067267</td>\n",
       "      <td>0.124035</td>\n",
       "      <td>...</td>\n",
       "      <td>0.0000</td>\n",
       "      <td>0.0</td>\n",
       "      <td>0.175412</td>\n",
       "      <td>0.087706</td>\n",
       "      <td>0.000000</td>\n",
       "      <td>0.0</td>\n",
       "      <td>0.062017</td>\n",
       "      <td>0.000000</td>\n",
       "      <td>0.000000</td>\n",
       "      <td>0.0</td>\n",
       "    </tr>\n",
       "  </tbody>\n",
       "</table>\n",
       "<p>5 rows × 101 columns</p>\n",
       "</div>"
      ],
      "text/plain": [
       "user  user         1        33        42        51        62        75  130  \\\n",
       "0        1  1.000000  0.061546  0.000000  0.000000  0.083624  0.000000  0.0   \n",
       "1       33  0.061546  1.000000  0.077152  0.247537  0.226455  0.176777  0.0   \n",
       "2       42  0.000000  0.077152  1.000000  0.000000  0.000000  0.000000  0.0   \n",
       "3       51  0.000000  0.247537  0.000000  1.000000  0.336336  0.140028  0.0   \n",
       "4       62  0.083624  0.226455  0.000000  0.336336  1.000000  0.160128  0.0   \n",
       "\n",
       "user       141       144  ...    1521  1530      1536      1545      1549  \\\n",
       "0     0.000000  0.000000  ...  0.1066   0.0  0.000000  0.190693  0.000000   \n",
       "1     0.000000  0.000000  ...  0.0000   0.0  0.064550  0.193649  0.000000   \n",
       "2     0.091670  0.000000  ...  0.0000   0.0  0.000000  0.000000  0.094491   \n",
       "3     0.000000  0.108465  ...  0.0000   0.0  0.076696  0.000000  0.000000   \n",
       "4     0.067267  0.124035  ...  0.0000   0.0  0.175412  0.087706  0.000000   \n",
       "\n",
       "user  1566      1586      1589      1601  1606  \n",
       "0      0.0  0.000000  0.000000  0.000000   0.0  \n",
       "1      0.0  0.045644  0.000000  0.091287   0.0  \n",
       "2      0.0  0.000000  0.125988  0.000000   0.0  \n",
       "3      0.0  0.000000  0.000000  0.000000   0.0  \n",
       "4      0.0  0.062017  0.000000  0.000000   0.0  \n",
       "\n",
       "[5 rows x 101 columns]"
      ]
     },
     "execution_count": 12,
     "metadata": {},
     "output_type": "execute_result"
    }
   ],
   "source": [
    "# B. Find user most similar to user 1606.\n",
    "users = pd.DataFrame(cosine_similarity(df), index = df.index, columns = df.index).reset_index()\n",
    "users.head()"
   ]
  },
  {
   "cell_type": "code",
   "execution_count": 13,
   "id": "02f55242",
   "metadata": {},
   "outputs": [
    {
     "name": "stdout",
     "output_type": "stream",
     "text": [
      "Most similar user: 1144\n"
     ]
    }
   ],
   "source": [
    "most_similar = users.iloc[:, 1:].corrwith(users[1606]).sort_values(ascending=False)[1:2].index[0]\n",
    "print(f'Most similar user: {most_similar}')"
   ]
  },
  {
   "cell_type": "code",
   "execution_count": 26,
   "id": "6910e04b",
   "metadata": {},
   "outputs": [
    {
     "name": "stdout",
     "output_type": "stream",
     "text": [
      "2\n"
     ]
    }
   ],
   "source": [
    "# C. How many of the recommended songs has already been listened to by user 1606?\n",
    "songs_1606 = df[df.index == 1606].T[df[df.index == 1606].T[1606] == 1].index.values\n",
    "songs_1144 = df[df.index == 1144].T[df[df.index == 1144].T[1144] == 1].index.values\n",
    "print(len(np.intersect1d(songs_1144, songs_1606)))"
   ]
  },
  {
   "cell_type": "code",
   "execution_count": 65,
   "id": "3a062fcb",
   "metadata": {},
   "outputs": [],
   "source": [
    "# D. Use a combination of user-item approach to build a recommendation score for each song for each user using the following steps for each user-\n",
    "users = df.index\n",
    "songs = df.columns        "
   ]
  },
  {
   "cell_type": "code",
   "execution_count": 61,
   "id": "91b2a697",
   "metadata": {},
   "outputs": [],
   "source": [
    "recommendations = pd.DataFrame(columns = ['user', 'song', 'score'])"
   ]
  },
  {
   "cell_type": "code",
   "execution_count": 66,
   "id": "2f445b02",
   "metadata": {},
   "outputs": [],
   "source": [
    "# Define function to calculate recommendation score\n",
    "def get_recommendation_score(user, song):\n",
    "    songs_listened_by_user = df.loc[user, df.loc[user] == 1].index.values\n",
    "    if song in songs_listened_by_user:\n",
    "        return -1\n",
    "    else:\n",
    "        similar_songs = similar[['index', song]].sort_values(song, ascending=False)[1:11]\n",
    "        rec_score = (df.loc[user, similar_songs['index']] * similar_songs[song].values).sum() / similar_songs[song].values.sum()\n",
    "        return rec_score"
   ]
  },
  {
   "cell_type": "code",
   "execution_count": 67,
   "id": "77a7aca0",
   "metadata": {},
   "outputs": [],
   "source": [
    "recommendations = pd.concat([pd.DataFrame({'user': user, 'song': songs, 'score': songs.map(lambda song: get_recommendation_score(user, song))}) for user in users], ignore_index=True)"
   ]
  },
  {
   "cell_type": "code",
   "execution_count": 70,
   "id": "967d64b9",
   "metadata": {},
   "outputs": [],
   "source": [
    "recommendations = recommendations.reset_index(drop = True)"
   ]
  },
  {
   "cell_type": "code",
   "execution_count": 75,
   "id": "417c09c0",
   "metadata": {},
   "outputs": [
    {
     "data": {
      "text/html": [
       "<div>\n",
       "<style scoped>\n",
       "    .dataframe tbody tr th:only-of-type {\n",
       "        vertical-align: middle;\n",
       "    }\n",
       "\n",
       "    .dataframe tbody tr th {\n",
       "        vertical-align: top;\n",
       "    }\n",
       "\n",
       "    .dataframe thead th {\n",
       "        text-align: right;\n",
       "    }\n",
       "</style>\n",
       "<table border=\"1\" class=\"dataframe\">\n",
       "  <thead>\n",
       "    <tr style=\"text-align: right;\">\n",
       "      <th></th>\n",
       "      <th>user</th>\n",
       "      <th>song</th>\n",
       "      <th>score</th>\n",
       "    </tr>\n",
       "  </thead>\n",
       "  <tbody>\n",
       "    <tr>\n",
       "      <th>0</th>\n",
       "      <td>1606</td>\n",
       "      <td>eric clapton</td>\n",
       "      <td>0.202740</td>\n",
       "    </tr>\n",
       "    <tr>\n",
       "      <th>1</th>\n",
       "      <td>1606</td>\n",
       "      <td>howard shore</td>\n",
       "      <td>0.171749</td>\n",
       "    </tr>\n",
       "    <tr>\n",
       "      <th>2</th>\n",
       "      <td>1606</td>\n",
       "      <td>david bowie</td>\n",
       "      <td>0.171243</td>\n",
       "    </tr>\n",
       "    <tr>\n",
       "      <th>3</th>\n",
       "      <td>1606</td>\n",
       "      <td>dream theater</td>\n",
       "      <td>0.134501</td>\n",
       "    </tr>\n",
       "    <tr>\n",
       "      <th>4</th>\n",
       "      <td>1606</td>\n",
       "      <td>apocalyptica</td>\n",
       "      <td>0.106527</td>\n",
       "    </tr>\n",
       "  </tbody>\n",
       "</table>\n",
       "</div>"
      ],
      "text/plain": [
       "   user           song     score\n",
       "0  1606   eric clapton  0.202740\n",
       "1  1606   howard shore  0.171749\n",
       "2  1606    david bowie  0.171243\n",
       "3  1606  dream theater  0.134501\n",
       "4  1606   apocalyptica  0.106527"
      ]
     },
     "execution_count": 75,
     "metadata": {},
     "output_type": "execute_result"
    }
   ],
   "source": [
    "recommendations[recommendations['user'] == 1606].sort_values('score', ascending = False).head(5).reset_index(drop = True)"
   ]
  },
  {
   "cell_type": "markdown",
   "id": "19d7c00a",
   "metadata": {},
   "source": [
    "## Conceptual Questions"
   ]
  },
  {
   "cell_type": "markdown",
   "id": "8e3e6d98",
   "metadata": {},
   "source": [
    "**Name 2 other similarity measures that you can use instead of cosine similarity above.**\n",
    "- Euclidean Distance, Jaccard similarity, Pearson Correlation Coefficient \n",
    "\n",
    "**What is needed to build a Content-Based Recommender system?**\n",
    "- To build a Content-Based Recommender system, you need information about the content of the items being recommended (such as descriptions or features), and data about how users have interacted with those items in the past.\n",
    "\n",
    "**Name 2 methods to evaluate your recommender system.**\n",
    "- A/B Testing, Precision and Recall"
   ]
  },
  {
   "cell_type": "markdown",
   "id": "77db108d",
   "metadata": {},
   "source": [
    "## Neural Network using numpy"
   ]
  },
  {
   "cell_type": "code",
   "execution_count": 39,
   "id": "60496e8d",
   "metadata": {},
   "outputs": [
    {
     "data": {
      "image/png": "[encoded data removed]",
      "text/plain": [
       "<Figure size 432x288 with 1 Axes>"
      ]
     },
     "metadata": {
      "needs_background": "light"
     },
     "output_type": "display_data"
    }
   ],
   "source": [
    "samples = 2\n",
    "def load_extra_datasets(N):  \n",
    "    gaussian_quantiles = make_gaussian_quantiles(mean=None, \n",
    "                                                 cov=0.7, \n",
    "                                                 n_samples=N, \n",
    "                                                 n_features=2, \n",
    "                                                 n_classes=2,  \n",
    "                                                 shuffle=True, \n",
    "                                                 random_state=None)\n",
    "    return  gaussian_quantiles\n",
    "\n",
    "gaussian_quantiles= load_extra_datasets(samples)\n",
    "\n",
    "X, Y = gaussian_quantiles\n",
    "\n",
    "X, Y = X.T, Y.reshape(1, Y.shape[0])\n",
    "\n",
    "plt.scatter(X[0, :], X[1, :], c=Y, s=40, cmap=plt.cm.Spectral);"
   ]
  },
  {
   "cell_type": "code",
   "execution_count": 40,
   "id": "634c74b3",
   "metadata": {},
   "outputs": [
    {
     "data": {
      "image/png": "[encoded data removed]",
      "text/plain": [
       "<Figure size 432x288 with 2 Axes>"
      ]
     },
     "metadata": {
      "needs_background": "light"
     },
     "output_type": "display_data"
    },
    {
     "name": "stdout",
     "output_type": "stream",
     "text": [
      "Accuracy of logistic regression: 100 % (percentage of correctly labelled datapoints)\n"
     ]
    }
   ],
   "source": [
    "xx, yy = np.mgrid[-4:4:.01, -4:4:.01]\n",
    "grid = np.c_[xx.ravel(), yy.ravel()]\n",
    "#probs = clf.predict_proba(grid)[:, 1].reshape(xx.shape)\n",
    "clf=LogisticRegression()\n",
    "\n",
    "clf.fit(X.T, Y.T)\n",
    "\n",
    "probs = clf.predict_proba(grid)[:, 1]\n",
    "probs = probs.reshape(xx.shape)\n",
    "\n",
    "plt.contourf(xx, yy, probs, 25, cmap=\"BuGn\", vmin=0, vmax=1)\n",
    "plt.colorbar()\n",
    "plt.scatter(X[0, :], X[1, :], c=Y, s=20, cmap=plt.cm.Spectral)\n",
    "plt.title(\"Logistic Regression Decision Boundary\")\n",
    "plt.xlabel(\"Feature 1\")\n",
    "plt.ylabel(\"Feature 2\")\n",
    "plt.show()\n",
    "\n",
    "# Print accuracy\n",
    "LR_predictions = clf.predict(X.T)\n",
    "print ('Accuracy of logistic regression: %d ' % float((np.dot(Y,LR_predictions) + np.dot(1-Y,1-LR_predictions))/float(Y.size)*100) +\n",
    "       '% ' + \"(percentage of correctly labelled datapoints)\")"
   ]
  },
  {
   "cell_type": "code",
   "execution_count": 41,
   "id": "db57bfde",
   "metadata": {},
   "outputs": [
    {
     "name": "stdout",
     "output_type": "stream",
     "text": [
      "2 1\n"
     ]
    }
   ],
   "source": [
    "n_x = X.shape[0] # size of input layer`\n",
    "n_h = 4\n",
    "n_y = Y.shape[0] # size of output layer\n",
    "\n",
    "print(n_x, n_y)"
   ]
  },
  {
   "cell_type": "code",
   "execution_count": 51,
   "id": "98f3dba0",
   "metadata": {},
   "outputs": [
    {
     "name": "stdout",
     "output_type": "stream",
     "text": [
      "W1\n",
      " [[ 0.01513794  0.00406448]\n",
      " [ 0.01028502 -0.00320395]\n",
      " [ 0.0022025   0.01375812]\n",
      " [-0.00136244  0.01534806]]\n",
      "b1\n",
      " [[0.]\n",
      " [0.]\n",
      " [0.]\n",
      " [0.]]\n",
      "W2\n",
      " [[ 0.00327721  0.00490679  0.00079976 -0.00283219]]\n",
      "b2\n",
      " [[0.]]\n"
     ]
    }
   ],
   "source": [
    "W1 = np.random.randn(n_h,n_x) * 0.01 #4x2\n",
    "b1 = np.zeros(shape=(n_h, 1)) #4x1\n",
    "W2 = np.random.randn(n_y,n_h) * 0.01 #1x4\n",
    "b2 = np.zeros(shape=(n_y, 1))#1x1\n",
    "\n",
    "print(\"W1\\n\", W1)\n",
    "print(\"b1\\n\", b1)\n",
    "print(\"W2\\n\", W2)\n",
    "print(\"b2\\n\", b2)"
   ]
  },
  {
   "cell_type": "code",
   "execution_count": 43,
   "id": "b789723f",
   "metadata": {},
   "outputs": [
    {
     "name": "stdout",
     "output_type": "stream",
     "text": [
      "[[0.]]\n"
     ]
    }
   ],
   "source": [
    "def sigmoid(x):\n",
    "    return 1 / (1 + np.e ** -x)\n",
    "\n",
    "total_cost = -9999\n",
    "\n",
    "# Implement Forward Propagation to calculate A2 (probabilities)\n",
    "Z1 = np.dot(W1,X) + b1\n",
    "A1 = np.tanh(Z1)\n",
    "Z2 = np.dot(W2,A1) + b2\n",
    "A2 = sigmoid(Z2) # Final output prediction\n",
    "\n",
    "print(b2)"
   ]
  },
  {
   "cell_type": "code",
   "execution_count": 44,
   "id": "18faa7fa",
   "metadata": {},
   "outputs": [
    {
     "name": "stdout",
     "output_type": "stream",
     "text": [
      "cost= 0.6932593700589595\n",
      "cost delta= 9999.693259370059\n"
     ]
    }
   ],
   "source": [
    "# Compute the cross-entropy cost\n",
    "samples=2\n",
    "old_total_cost = total_cost\n",
    "cost_function = np.multiply(np.log(A2), Y) + np.multiply((1 - Y), np.log(1 - A2)) #J(theta)\n",
    "total_cost = -np.sum(cost_function) / samples\n",
    "\n",
    "print(\"cost=\", total_cost)\n",
    "print(\"cost delta=\", np.subtract(total_cost, old_total_cost))"
   ]
  },
  {
   "cell_type": "code",
   "execution_count": 45,
   "id": "c0ba5e76",
   "metadata": {},
   "outputs": [
    {
     "name": "stdout",
     "output_type": "stream",
     "text": [
      "(4, 2)\n",
      "(4, 2)\n",
      "(1, 2)\n",
      "(1, 2)\n",
      "(1, 2)\n"
     ]
    }
   ],
   "source": [
    "print(Z1.shape)\n",
    "print(A1.shape)\n",
    "print(Z2.shape)\n",
    "print(A2.shape)\n",
    "print(cost_function.shape)"
   ]
  },
  {
   "cell_type": "code",
   "execution_count": 52,
   "id": "f5fcd470",
   "metadata": {},
   "outputs": [
    {
     "name": "stdout",
     "output_type": "stream",
     "text": [
      "dJdZ2= [[-0.50008432  0.50000467]]\n",
      "dJdW2= [[ 0.00292516 -0.00057385  0.0049446  -0.00644669]]\n",
      "dJdb2= [[-3.982668e-05]]\n",
      "dJdW1= [[-1.16402302e-03 -1.73419186e-05]\n",
      " [-1.74296735e-03 -2.59578284e-05]\n",
      " [-2.84024729e-04 -4.23410062e-06]\n",
      " [ 1.00564818e-03  1.50030174e-05]]\n",
      "dJdb1= [[-4.54272495e-08]\n",
      " [-1.86469192e-07]\n",
      " [ 2.21701239e-08]\n",
      " [-2.21719171e-07]]\n"
     ]
    }
   ],
   "source": [
    "dJdZ2 = A2 - Y\n",
    "dJdW2 = (1 / samples) * np.dot(dJdZ2, A1.T)\n",
    "dJdb2 = (1 / samples) * np.sum(dJdZ2, axis=1, keepdims=True)\n",
    "# since activation function is tanh(Z1) = A1\n",
    "# first derivative of d/dz tanh(z) = 1 - tanh(z) ^ 2 = 1 - A1 ^ 2\n",
    "dJdZ1 = np.multiply(np.dot(W2.T, dJdZ2), 1 - np.power(A1, 2))\n",
    "dJdW1 = (1 / samples) * np.dot(dJdZ1, X.T)\n",
    "dJdb1 = (1 / samples) * np.sum(dJdZ1, axis=1, keepdims=True)\n",
    "\n",
    "print(\"dJdZ2=\", dJdZ2)\n",
    "print(\"dJdW2=\", dJdW2)\n",
    "print(\"dJdb2=\", dJdb2)\n",
    "print(\"dJdW1=\", dJdW1)\n",
    "print(\"dJdb1=\", dJdb1)"
   ]
  },
  {
   "cell_type": "code",
   "execution_count": 53,
   "id": "82f59404",
   "metadata": {},
   "outputs": [
    {
     "name": "stdout",
     "output_type": "stream",
     "text": [
      "b2 before= [[0.]]\n",
      "b2 after= [[3.982668e-09]]\n",
      "delta change= [[3.982668e-09]]\n"
     ]
    }
   ],
   "source": [
    "learning_rate = 0.0001\n",
    "b2_old = b2\n",
    "print(\"b2 before=\", b2_old)\n",
    "W1 = W1 - learning_rate * dJdW1\n",
    "b1 = b1 - learning_rate * dJdb1\n",
    "W2 = W2 - learning_rate * dJdW2\n",
    "b2 = b2 - learning_rate * dJdb2\n",
    "\n",
    "print(\"b2 after=\", b2)\n",
    "\n",
    "print(\"delta change=\", np.subtract(b2, b2_old))"
   ]
  },
  {
   "cell_type": "code",
   "execution_count": 54,
   "id": "09574934",
   "metadata": {},
   "outputs": [
    {
     "name": "stdout",
     "output_type": "stream",
     "text": [
      "b2 before= [[0.]]\n",
      "b2 after= [[4.02249468e-07]]\n",
      "delta change= [[4.02249468e-07]]\n"
     ]
    }
   ],
   "source": [
    "learning_rate = 0.01\n",
    "#b2_old = b2\n",
    "print(\"b2 before=\", b2_old)\n",
    "W1 = W1 - learning_rate * dJdW1\n",
    "b1 = b1 - learning_rate * dJdb1\n",
    "W2 = W2 - learning_rate * dJdW2\n",
    "b2 = b2 - learning_rate * dJdb2\n",
    "\n",
    "print(\"b2 after=\", b2)\n",
    "\n",
    "print(\"delta change=\", np.subtract(b2, b2_old))"
   ]
  },
  {
   "cell_type": "code",
   "execution_count": 55,
   "id": "a7aa2178",
   "metadata": {},
   "outputs": [
    {
     "name": "stdout",
     "output_type": "stream",
     "text": [
      "b2 before= [[0.]]\n",
      "b2 after= [[4.02289295e-05]]\n",
      "delta change= [[4.02289295e-05]]\n"
     ]
    }
   ],
   "source": [
    "learning_rate = 1\n",
    "#b2_old = b2\n",
    "print(\"b2 before=\", b2_old)\n",
    "W1 = W1 - learning_rate * dJdW1\n",
    "b1 = b1 - learning_rate * dJdb1\n",
    "W2 = W2 - learning_rate * dJdW2\n",
    "b2 = b2 - learning_rate * dJdb2\n",
    "\n",
    "print(\"b2 after=\", b2)\n",
    "\n",
    "print(\"delta change=\", np.subtract(b2, b2_old))"
   ]
  },
  {
   "cell_type": "code",
   "execution_count": 56,
   "id": "11737089",
   "metadata": {},
   "outputs": [
    {
     "name": "stdout",
     "output_type": "stream",
     "text": [
      "b2 before= [[4.02289295e-05]]\n",
      "b2 after= [[4.06271963e-05]]\n",
      "delta change= [[3.982668e-07]]\n",
      "cost= 0.6931289151706674\n",
      "cost delta= -0.00010725602580274884\n",
      "b2 before= [[4.06271963e-05]]\n",
      "b2 after= [[4.04673612e-05]]\n",
      "delta change= [[-1.59835022e-07]]\n",
      "cost= 0.6931283012171096\n",
      "cost delta= -6.139535578819633e-07\n",
      "b2 before= [[4.04673612e-05]]\n",
      "b2 after= [[4.03061056e-05]]\n",
      "delta change= [[-1.61255612e-07]]\n",
      "cost= 0.6931276863276652\n",
      "cost delta= -6.148894443613884e-07\n",
      "b2 before= [[4.03061056e-05]]\n",
      "b2 after= [[4.01434301e-05]]\n",
      "delta change= [[-1.62675498e-07]]\n",
      "cost= 0.693127070471347\n",
      "cost delta= -6.158563181646315e-07\n",
      "b2 before= [[4.01434301e-05]]\n",
      "b2 after= [[3.99793354e-05]]\n",
      "delta change= [[-1.64094775e-07]]\n",
      "cost= 0.6931264536171202\n",
      "cost delta= -6.168542268092381e-07\n",
      "b2 before= [[3.99793354e-05]]\n",
      "b2 after= [[3.98138218e-05]]\n",
      "delta change= [[-1.65513536e-07]]\n",
      "cost= 0.6931258357339005\n",
      "cost delta= -6.178832197001327e-07\n",
      "b2 before= [[3.98138218e-05]]\n",
      "b2 after= [[3.96468899e-05]]\n",
      "delta change= [[-1.66931876e-07]]\n",
      "cost= 0.6931252167905533\n",
      "cost delta= -6.189433472414407e-07\n",
      "b2 before= [[3.96468899e-05]]\n",
      "b2 after= [[3.94785401e-05]]\n",
      "delta change= [[-1.68349888e-07]]\n",
      "cost= 0.693124596755891\n",
      "cost delta= -6.200346622797781e-07\n",
      "b2 before= [[3.94785401e-05]]\n",
      "b2 after= [[3.93087724e-05]]\n",
      "delta change= [[-1.69767667e-07]]\n",
      "cost= 0.6931239755986722\n",
      "cost delta= -6.211572187719838e-07\n",
      "b2 before= [[3.93087724e-05]]\n",
      "b2 after= [[3.91375871e-05]]\n",
      "delta change= [[-1.71185306e-07]]\n",
      "cost= 0.6931233532876002\n",
      "cost delta= -6.223110720071645e-07\n"
     ]
    }
   ],
   "source": [
    "#for 10 iterations\n",
    "for i in range(10):\n",
    "    dJdZ2 = A2 - Y\n",
    "    dJdW2 = (1 / samples) * np.dot(dJdZ2, A1.T)\n",
    "    dJdb2 = (1 / samples) * np.sum(dJdZ2, axis=1, keepdims=True)\n",
    "    # since activation function is tanh(Z1) = A1\n",
    "    # first derivative of d/dz tanh(z) = 1 - tanh(z) ^ 2 = 1 - A1 ^ 2\n",
    "    dJdZ1 = np.multiply(np.dot(W2.T, dJdZ2), 1 - np.power(A1, 2))\n",
    "    dJdW1 = (1 / samples) * np.dot(dJdZ1, X.T)\n",
    "    dJdb1 = (1 / samples) * np.sum(dJdZ1, axis=1, keepdims=True)\n",
    "\n",
    " \n",
    "    \n",
    "    learning_rate = 0.01\n",
    "    b2_old = b2\n",
    "    print(\"b2 before=\", b2_old)\n",
    "    W1 = W1 - learning_rate * dJdW1\n",
    "    b1 = b1 - learning_rate * dJdb1\n",
    "    W2 = W2 - learning_rate * dJdW2\n",
    "    b2 = b2 - learning_rate * dJdb2\n",
    "\n",
    "    print(\"b2 after=\", b2)\n",
    "\n",
    "    print(\"delta change=\", np.subtract(b2, b2_old))\n",
    "    # Update variables for next iteration\n",
    "    Z1 = np.dot(W1,X) + b1\n",
    "    A1 = np.tanh(Z1)\n",
    "    Z2 = np.dot(W2,A1) + b2\n",
    "    A2 = sigmoid(Z2) # Final output prediction\n",
    "    old_total_cost = total_cost\n",
    "    cost_function = np.multiply(np.log(A2), Y) + np.multiply((1 - Y), np.log(1 - A2)) #J(theta)\n",
    "    total_cost = -np.sum(cost_function) / samples\n",
    "    print(\"cost=\", total_cost)\n",
    "    print(\"cost delta=\", np.subtract(total_cost, old_total_cost))"
   ]
  }
 ],
 "metadata": {
  "kernelspec": {
   "display_name": "Python 3 (ipykernel)",
   "language": "python",
   "name": "python3"
  },
  "language_info": {
   "codemirror_mode": {
    "name": "ipython",
    "version": 3
   },
   "file_extension": ".py",
   "mimetype": "text/x-python",
   "name": "python",
   "nbconvert_exporter": "python",
   "pygments_lexer": "ipython3",
   "version": "3.9.12"
  }
 },
 "nbformat": 4,
 "nbformat_minor": 5
}
