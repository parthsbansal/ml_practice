{
 "cells": [
  {
   "cell_type": "markdown",
   "id": "2099c857",
   "metadata": {},
   "source": [
    "## Assignment 2 - Regression (Gradient Descent)"
   ]
  },
  {
   "cell_type": "markdown",
   "id": "04a6c5eb",
   "metadata": {},
   "source": [
    "### Parth Bansal"
   ]
  },
  {
   "cell_type": "code",
   "execution_count": 1,
   "id": "033c2f8f",
   "metadata": {},
   "outputs": [],
   "source": [
    "import pandas as pd\n",
    "import matplotlib.pyplot as plt\n",
    "import seaborn as sns\n",
    "from sklearn.model_selection import train_test_split\n",
    "from sklearn.preprocessing import StandardScaler\n",
    "import numpy as np\n",
    "from sklearn.metrics import mean_squared_error, r2_score, explained_variance_score\n",
    "from sklearn.linear_model import LinearRegression"
   ]
  },
  {
   "cell_type": "markdown",
   "id": "b6255574",
   "metadata": {},
   "source": [
    "### Part A: Data Cleaning & Exploratory Analysis"
   ]
  },
  {
   "cell_type": "code",
   "execution_count": 2,
   "id": "fa4ef9bc",
   "metadata": {},
   "outputs": [
    {
     "name": "stderr",
     "output_type": "stream",
     "text": [
      "/var/folders/0y/n_xgd2n97837m629ymdq84rr0000gn/T/ipykernel_39582/2279483484.py:1: DtypeWarning: Columns (47,73) have mixed types. Specify dtype option on import or set low_memory=False.\n",
      "  df = pd.read_csv('/Users/parthbansal/Downloads/bottle.csv')\n"
     ]
    },
    {
     "data": {
      "text/html": [
       "<div>\n",
       "<style scoped>\n",
       "    .dataframe tbody tr th:only-of-type {\n",
       "        vertical-align: middle;\n",
       "    }\n",
       "\n",
       "    .dataframe tbody tr th {\n",
       "        vertical-align: top;\n",
       "    }\n",
       "\n",
       "    .dataframe thead th {\n",
       "        text-align: right;\n",
       "    }\n",
       "</style>\n",
       "<table border=\"1\" class=\"dataframe\">\n",
       "  <thead>\n",
       "    <tr style=\"text-align: right;\">\n",
       "      <th></th>\n",
       "      <th>Cst_Cnt</th>\n",
       "      <th>Btl_Cnt</th>\n",
       "      <th>Sta_ID</th>\n",
       "      <th>Depth_ID</th>\n",
       "      <th>Depthm</th>\n",
       "      <th>T_degC</th>\n",
       "      <th>Salnty</th>\n",
       "      <th>O2ml_L</th>\n",
       "      <th>STheta</th>\n",
       "      <th>O2Sat</th>\n",
       "      <th>...</th>\n",
       "      <th>R_PHAEO</th>\n",
       "      <th>R_PRES</th>\n",
       "      <th>R_SAMP</th>\n",
       "      <th>DIC1</th>\n",
       "      <th>DIC2</th>\n",
       "      <th>TA1</th>\n",
       "      <th>TA2</th>\n",
       "      <th>pH2</th>\n",
       "      <th>pH1</th>\n",
       "      <th>DIC Quality Comment</th>\n",
       "    </tr>\n",
       "  </thead>\n",
       "  <tbody>\n",
       "    <tr>\n",
       "      <th>0</th>\n",
       "      <td>1</td>\n",
       "      <td>1</td>\n",
       "      <td>054.0 056.0</td>\n",
       "      <td>19-4903CR-HY-060-0930-05400560-0000A-3</td>\n",
       "      <td>0</td>\n",
       "      <td>10.50</td>\n",
       "      <td>33.440</td>\n",
       "      <td>NaN</td>\n",
       "      <td>25.649</td>\n",
       "      <td>NaN</td>\n",
       "      <td>...</td>\n",
       "      <td>NaN</td>\n",
       "      <td>0</td>\n",
       "      <td>NaN</td>\n",
       "      <td>NaN</td>\n",
       "      <td>NaN</td>\n",
       "      <td>NaN</td>\n",
       "      <td>NaN</td>\n",
       "      <td>NaN</td>\n",
       "      <td>NaN</td>\n",
       "      <td>NaN</td>\n",
       "    </tr>\n",
       "    <tr>\n",
       "      <th>1</th>\n",
       "      <td>1</td>\n",
       "      <td>2</td>\n",
       "      <td>054.0 056.0</td>\n",
       "      <td>19-4903CR-HY-060-0930-05400560-0008A-3</td>\n",
       "      <td>8</td>\n",
       "      <td>10.46</td>\n",
       "      <td>33.440</td>\n",
       "      <td>NaN</td>\n",
       "      <td>25.656</td>\n",
       "      <td>NaN</td>\n",
       "      <td>...</td>\n",
       "      <td>NaN</td>\n",
       "      <td>8</td>\n",
       "      <td>NaN</td>\n",
       "      <td>NaN</td>\n",
       "      <td>NaN</td>\n",
       "      <td>NaN</td>\n",
       "      <td>NaN</td>\n",
       "      <td>NaN</td>\n",
       "      <td>NaN</td>\n",
       "      <td>NaN</td>\n",
       "    </tr>\n",
       "    <tr>\n",
       "      <th>2</th>\n",
       "      <td>1</td>\n",
       "      <td>3</td>\n",
       "      <td>054.0 056.0</td>\n",
       "      <td>19-4903CR-HY-060-0930-05400560-0010A-7</td>\n",
       "      <td>10</td>\n",
       "      <td>10.46</td>\n",
       "      <td>33.437</td>\n",
       "      <td>NaN</td>\n",
       "      <td>25.654</td>\n",
       "      <td>NaN</td>\n",
       "      <td>...</td>\n",
       "      <td>NaN</td>\n",
       "      <td>10</td>\n",
       "      <td>NaN</td>\n",
       "      <td>NaN</td>\n",
       "      <td>NaN</td>\n",
       "      <td>NaN</td>\n",
       "      <td>NaN</td>\n",
       "      <td>NaN</td>\n",
       "      <td>NaN</td>\n",
       "      <td>NaN</td>\n",
       "    </tr>\n",
       "    <tr>\n",
       "      <th>3</th>\n",
       "      <td>1</td>\n",
       "      <td>4</td>\n",
       "      <td>054.0 056.0</td>\n",
       "      <td>19-4903CR-HY-060-0930-05400560-0019A-3</td>\n",
       "      <td>19</td>\n",
       "      <td>10.45</td>\n",
       "      <td>33.420</td>\n",
       "      <td>NaN</td>\n",
       "      <td>25.643</td>\n",
       "      <td>NaN</td>\n",
       "      <td>...</td>\n",
       "      <td>NaN</td>\n",
       "      <td>19</td>\n",
       "      <td>NaN</td>\n",
       "      <td>NaN</td>\n",
       "      <td>NaN</td>\n",
       "      <td>NaN</td>\n",
       "      <td>NaN</td>\n",
       "      <td>NaN</td>\n",
       "      <td>NaN</td>\n",
       "      <td>NaN</td>\n",
       "    </tr>\n",
       "    <tr>\n",
       "      <th>4</th>\n",
       "      <td>1</td>\n",
       "      <td>5</td>\n",
       "      <td>054.0 056.0</td>\n",
       "      <td>19-4903CR-HY-060-0930-05400560-0020A-7</td>\n",
       "      <td>20</td>\n",
       "      <td>10.45</td>\n",
       "      <td>33.421</td>\n",
       "      <td>NaN</td>\n",
       "      <td>25.643</td>\n",
       "      <td>NaN</td>\n",
       "      <td>...</td>\n",
       "      <td>NaN</td>\n",
       "      <td>20</td>\n",
       "      <td>NaN</td>\n",
       "      <td>NaN</td>\n",
       "      <td>NaN</td>\n",
       "      <td>NaN</td>\n",
       "      <td>NaN</td>\n",
       "      <td>NaN</td>\n",
       "      <td>NaN</td>\n",
       "      <td>NaN</td>\n",
       "    </tr>\n",
       "  </tbody>\n",
       "</table>\n",
       "<p>5 rows × 74 columns</p>\n",
       "</div>"
      ],
      "text/plain": [
       "   Cst_Cnt  Btl_Cnt       Sta_ID                                Depth_ID  \\\n",
       "0        1        1  054.0 056.0  19-4903CR-HY-060-0930-05400560-0000A-3   \n",
       "1        1        2  054.0 056.0  19-4903CR-HY-060-0930-05400560-0008A-3   \n",
       "2        1        3  054.0 056.0  19-4903CR-HY-060-0930-05400560-0010A-7   \n",
       "3        1        4  054.0 056.0  19-4903CR-HY-060-0930-05400560-0019A-3   \n",
       "4        1        5  054.0 056.0  19-4903CR-HY-060-0930-05400560-0020A-7   \n",
       "\n",
       "   Depthm  T_degC  Salnty  O2ml_L  STheta  O2Sat  ...  R_PHAEO  R_PRES  \\\n",
       "0       0   10.50  33.440     NaN  25.649    NaN  ...      NaN       0   \n",
       "1       8   10.46  33.440     NaN  25.656    NaN  ...      NaN       8   \n",
       "2      10   10.46  33.437     NaN  25.654    NaN  ...      NaN      10   \n",
       "3      19   10.45  33.420     NaN  25.643    NaN  ...      NaN      19   \n",
       "4      20   10.45  33.421     NaN  25.643    NaN  ...      NaN      20   \n",
       "\n",
       "   R_SAMP  DIC1  DIC2  TA1  TA2  pH2  pH1  DIC Quality Comment  \n",
       "0     NaN   NaN   NaN  NaN  NaN  NaN  NaN                  NaN  \n",
       "1     NaN   NaN   NaN  NaN  NaN  NaN  NaN                  NaN  \n",
       "2     NaN   NaN   NaN  NaN  NaN  NaN  NaN                  NaN  \n",
       "3     NaN   NaN   NaN  NaN  NaN  NaN  NaN                  NaN  \n",
       "4     NaN   NaN   NaN  NaN  NaN  NaN  NaN                  NaN  \n",
       "\n",
       "[5 rows x 74 columns]"
      ]
     },
     "execution_count": 2,
     "metadata": {},
     "output_type": "execute_result"
    }
   ],
   "source": [
    "df = pd.read_csv('/Users/parthbansal/Downloads/bottle.csv')\n",
    "df.head()"
   ]
  },
  {
   "cell_type": "code",
   "execution_count": 3,
   "id": "34ba04e5",
   "metadata": {},
   "outputs": [
    {
     "data": {
      "text/plain": [
       "(864863, 74)"
      ]
     },
     "execution_count": 3,
     "metadata": {},
     "output_type": "execute_result"
    }
   ],
   "source": [
    "df.shape"
   ]
  },
  {
   "cell_type": "code",
   "execution_count": 4,
   "id": "915281e8",
   "metadata": {},
   "outputs": [],
   "source": [
    "df = df[['T_degC', 'Salnty', 'STheta', 'O2ml_L', 'Depthm']] "
   ]
  },
  {
   "cell_type": "code",
   "execution_count": 5,
   "id": "95a3f151",
   "metadata": {},
   "outputs": [],
   "source": [
    "df = df.dropna()"
   ]
  },
  {
   "cell_type": "code",
   "execution_count": 6,
   "id": "2b2fd879",
   "metadata": {},
   "outputs": [
    {
     "data": {
      "text/plain": [
       "(661268, 5)"
      ]
     },
     "execution_count": 6,
     "metadata": {},
     "output_type": "execute_result"
    }
   ],
   "source": [
    "df.shape"
   ]
  },
  {
   "cell_type": "code",
   "execution_count": 7,
   "id": "0daddc9e",
   "metadata": {},
   "outputs": [
    {
     "data": {
      "text/plain": [
       "28.083"
      ]
     },
     "execution_count": 7,
     "metadata": {},
     "output_type": "execute_result"
    }
   ],
   "source": [
    "# Outliers are removed in STheta\n",
    "df['STheta'].max()"
   ]
  },
  {
   "cell_type": "code",
   "execution_count": 8,
   "id": "0c46d8da",
   "metadata": {},
   "outputs": [
    {
     "data": {
      "image/png": "[encoded data removed]",
      "text/plain": [
       "<Figure size 432x288 with 1 Axes>"
      ]
     },
     "metadata": {
      "needs_background": "light"
     },
     "output_type": "display_data"
    }
   ],
   "source": [
    "# Plotting STheta to see if there are outliers\n",
    "plt.scatter(df['T_degC'], df['STheta'])\n",
    "plt.xlabel('T_degC')\n",
    "plt.ylabel('STheta (Density of water)')\n",
    "plt.show()"
   ]
  },
  {
   "cell_type": "markdown",
   "id": "0a4febe6",
   "metadata": {},
   "source": [
    "### Part B: Train & Test Split"
   ]
  },
  {
   "cell_type": "code",
   "execution_count": 9,
   "id": "5af45a21",
   "metadata": {},
   "outputs": [],
   "source": [
    "X = df[['Salnty', 'STheta', 'O2ml_L', 'Depthm']]\n",
    "y = df['T_degC']\n",
    "\n",
    "X_train, X_test, y_train, y_test = train_test_split(X, y, test_size = 0.2, random_state = 42)"
   ]
  },
  {
   "cell_type": "code",
   "execution_count": 10,
   "id": "6a5e358e",
   "metadata": {},
   "outputs": [
    {
     "data": {
      "text/plain": [
       "(661268, 4)"
      ]
     },
     "execution_count": 10,
     "metadata": {},
     "output_type": "execute_result"
    }
   ],
   "source": [
    "X.shape"
   ]
  },
  {
   "cell_type": "code",
   "execution_count": 11,
   "id": "8a9a72f3",
   "metadata": {},
   "outputs": [
    {
     "data": {
      "text/plain": [
       "(661268, 1)"
      ]
     },
     "execution_count": 11,
     "metadata": {},
     "output_type": "execute_result"
    }
   ],
   "source": [
    "y = np.array(y).reshape(-1, 1)\n",
    "y.shape"
   ]
  },
  {
   "cell_type": "code",
   "execution_count": 12,
   "id": "0d276ba5",
   "metadata": {},
   "outputs": [
    {
     "data": {
      "text/plain": [
       "StandardScaler()"
      ]
     },
     "execution_count": 12,
     "metadata": {},
     "output_type": "execute_result"
    }
   ],
   "source": [
    "scaler = StandardScaler()\n",
    "scaler.fit(X)"
   ]
  },
  {
   "cell_type": "code",
   "execution_count": 13,
   "id": "cfd6ef23",
   "metadata": {},
   "outputs": [],
   "source": [
    "X_train_scaled = scaler.transform(X_train)\n",
    "X_test_scaled = scaler.transform(X_test)"
   ]
  },
  {
   "cell_type": "markdown",
   "id": "fda1e450",
   "metadata": {},
   "source": [
    "### Part C: Linear Regression with sklearn"
   ]
  },
  {
   "cell_type": "markdown",
   "id": "167bd8f5",
   "metadata": {},
   "source": [
    "#### (1) Create an instance of the LinearRegression class called \"lin_reg\". Fit lin_reg using X_train_scaled & y_train."
   ]
  },
  {
   "cell_type": "code",
   "execution_count": 14,
   "id": "cd30f64f",
   "metadata": {},
   "outputs": [],
   "source": [
    "lin_reg = LinearRegression()"
   ]
  },
  {
   "cell_type": "code",
   "execution_count": 15,
   "id": "13965d53",
   "metadata": {},
   "outputs": [
    {
     "data": {
      "text/plain": [
       "LinearRegression()"
      ]
     },
     "execution_count": 15,
     "metadata": {},
     "output_type": "execute_result"
    }
   ],
   "source": [
    "lin_reg.fit(X_train_scaled, y_train)"
   ]
  },
  {
   "cell_type": "markdown",
   "id": "e11f6c06",
   "metadata": {},
   "source": [
    "#### (2) Print out the coefficients (including the intercept)"
   ]
  },
  {
   "cell_type": "code",
   "execution_count": 16,
   "id": "28a49152",
   "metadata": {},
   "outputs": [
    {
     "name": "stdout",
     "output_type": "stream",
     "text": [
      "Coefficients: [ 1.62993675 -4.63279593  0.30196665 -0.47439098]\n"
     ]
    }
   ],
   "source": [
    "print(\"Coefficients:\", lin_reg.coef_)"
   ]
  },
  {
   "cell_type": "code",
   "execution_count": 17,
   "id": "8b7efda0",
   "metadata": {},
   "outputs": [
    {
     "name": "stdout",
     "output_type": "stream",
     "text": [
      "Intercept: 10.917223921532479\n"
     ]
    }
   ],
   "source": [
    "print(\"Intercept:\", lin_reg.intercept_)"
   ]
  },
  {
   "cell_type": "markdown",
   "id": "4a4cdeb1",
   "metadata": {},
   "source": [
    "#### (3) Predict T_degC for the test data using the fitted values in b."
   ]
  },
  {
   "cell_type": "code",
   "execution_count": 18,
   "id": "61bd3c96",
   "metadata": {},
   "outputs": [],
   "source": [
    "y_pred_sklearn = lin_reg.predict(X_test_scaled)"
   ]
  },
  {
   "cell_type": "markdown",
   "id": "d716aac3",
   "metadata": {},
   "source": [
    "#### (4) Calculate the following for the test data: mean squared error, r-squared, explained variance"
   ]
  },
  {
   "cell_type": "code",
   "execution_count": 19,
   "id": "2a288c37",
   "metadata": {},
   "outputs": [
    {
     "name": "stdout",
     "output_type": "stream",
     "text": [
      "Mean Squared Error: 0.11101117205433658\n",
      "R-Squared: 0.9937682503632342\n",
      "Explained Variance Score: 0.9937684088237414\n"
     ]
    }
   ],
   "source": [
    "mse = mean_squared_error(y_test, y_pred_sklearn)\n",
    "r2 = r2_score(y_test, y_pred_sklearn)\n",
    "evs = explained_variance_score(y_test, y_pred_sklearn)\n",
    "\n",
    "print(\"Mean Squared Error:\", mse)\n",
    "print(\"R-Squared:\", r2)\n",
    "print(\"Explained Variance Score:\", evs)"
   ]
  },
  {
   "cell_type": "markdown",
   "id": "30c0e22f",
   "metadata": {},
   "source": [
    "#### (5) Create a scatterplot that shows actual versus predicted values for the T_degC."
   ]
  },
  {
   "cell_type": "code",
   "execution_count": 20,
   "id": "3e632a41",
   "metadata": {},
   "outputs": [
    {
     "data": {
      "image/png": "[encoded data removed]",
      "text/plain": [
       "<Figure size 432x288 with 1 Axes>"
      ]
     },
     "metadata": {
      "needs_background": "light"
     },
     "output_type": "display_data"
    }
   ],
   "source": [
    "plt.scatter(y_test, y_pred_sklearn)\n",
    "plt.xlabel('Actual T_degC')\n",
    "plt.ylabel('Predicted T_degC')\n",
    "plt.title('Actual vs Predicted T_degC')\n",
    "plt.show()"
   ]
  },
  {
   "cell_type": "markdown",
   "id": "2be24b8c",
   "metadata": {},
   "source": [
    "### Part D: Gradient Descent Mini-Batch"
   ]
  },
  {
   "cell_type": "code",
   "execution_count": 21,
   "id": "8238a9c4",
   "metadata": {},
   "outputs": [],
   "source": [
    "X_train_scaled = np.c_[np.ones((len(X_train_scaled), 1)), X_train_scaled]\n",
    "X_test_scaled = np.c_[np.ones((len(X_test_scaled), 1)), X_test_scaled]"
   ]
  },
  {
   "cell_type": "code",
   "execution_count": 22,
   "id": "f1fb480d",
   "metadata": {},
   "outputs": [],
   "source": [
    "def mse_cost_function(X, y, theta):\n",
    "    m = len(X)\n",
    "    y_pred = X.dot(theta)\n",
    "    mse = (1/m) * np.sum(np.square(y_pred - y))\n",
    "    return mse"
   ]
  },
  {
   "cell_type": "code",
   "execution_count": 23,
   "id": "8c35c477",
   "metadata": {},
   "outputs": [],
   "source": [
    "def mini_batch_gradient_descent(X, y, eta, n_epochs, batch_size):\n",
    "    m, n = X.shape\n",
    "    n_batches = m // batch_size\n",
    "    \n",
    "    np.random.seed(42)\n",
    "    theta = np.random.randn(n, 1)\n",
    "    \n",
    "    for epoch in range(n_epochs):\n",
    "        shuffled_indices = np.random.permutation(m)\n",
    "        X_shuffled = X[shuffled_indices]\n",
    "        y_shuffled = y[shuffled_indices]\n",
    "        \n",
    "        for i in range(n_batches):\n",
    "            start_idx = i * batch_size\n",
    "            end_idx = (i + 1) * batch_size\n",
    "            X_batch = X_shuffled[start_idx:end_idx]\n",
    "            y_batch = y_shuffled[start_idx:end_idx]\n",
    "            gradients = 2/batch_size * X_batch.T.dot(X_batch.dot(theta) - y_batch)\n",
    "            theta = theta - eta * gradients\n",
    "    \n",
    "    return theta"
   ]
  },
  {
   "cell_type": "code",
   "execution_count": 24,
   "id": "e0fe5f75",
   "metadata": {},
   "outputs": [],
   "source": [
    "def evaluate_model(X, y, theta):\n",
    "    y_pred = X.dot(theta)\n",
    "    mse = mean_squared_error(y, y_pred)\n",
    "    r2 = r2_score(y, y_pred)\n",
    "    evs = explained_variance_score(y, y_pred)\n",
    "    return mse, r2, evs"
   ]
  },
  {
   "cell_type": "code",
   "execution_count": 25,
   "id": "0fb3df94",
   "metadata": {},
   "outputs": [],
   "source": [
    "batch_sizes = [50, 250, 2000]"
   ]
  },
  {
   "cell_type": "code",
   "execution_count": 29,
   "id": "e40d2fa8",
   "metadata": {},
   "outputs": [
    {
     "name": "stdout",
     "output_type": "stream",
     "text": [
      "Batch size:  50\n",
      "Test MSE:  0.11777444171606602\n",
      "Test R-squared: 0.9933885858440884\n",
      "Test Explained Variance:  0.9934316080207575\n"
     ]
    },
    {
     "data": {
      "image/png": "[encoded data removed]",
      "text/plain": [
       "<Figure size 432x288 with 1 Axes>"
      ]
     },
     "metadata": {
      "needs_background": "light"
     },
     "output_type": "display_data"
    },
    {
     "name": "stdout",
     "output_type": "stream",
     "text": [
      "Batch size:  50\n",
      "Train MSE:  0.11730141185337137\n",
      "Train R-squared: 0.9934302569923417\n",
      "Train Explained Variance:  0.9934786723370813 \n",
      "\n",
      "Batch size:  250\n",
      "Test MSE:  0.11197185411784635\n",
      "Test R-squared: 0.9937143212857411\n",
      "Test Explained Variance:  0.9937228707699207\n"
     ]
    },
    {
     "data": {
      "image/png": "[encoded data removed]",
      "text/plain": [
       "<Figure size 432x288 with 1 Axes>"
      ]
     },
     "metadata": {
      "needs_background": "light"
     },
     "output_type": "display_data"
    },
    {
     "name": "stdout",
     "output_type": "stream",
     "text": [
      "Batch size:  250\n",
      "Train MSE:  0.11159822188662577\n",
      "Train R-squared: 0.9937496776353959\n",
      "Train Explained Variance:  0.9937607651434958 \n",
      "\n",
      "Batch size:  2000\n",
      "Test MSE:  0.11110354152186708\n",
      "Test R-squared: 0.9937630650887698\n",
      "Test Explained Variance:  0.9937631409387447\n"
     ]
    },
    {
     "data": {
      "image/png": "[encoded data removed]",
      "text/plain": [
       "<Figure size 432x288 with 1 Axes>"
      ]
     },
     "metadata": {
      "needs_background": "light"
     },
     "output_type": "display_data"
    },
    {
     "name": "stdout",
     "output_type": "stream",
     "text": [
      "Batch size:  2000\n",
      "Train MSE:  0.11072663842437415\n",
      "Train R-squared: 0.9937984927286352\n",
      "Train Explained Variance:  0.9937985078812134 \n",
      "\n"
     ]
    }
   ],
   "source": [
    "for batch_size in batch_sizes:\n",
    "    theta = mini_batch_gradient_descent(X_train_scaled, y_train.values.reshape(-1, 1), eta=0.1, n_epochs=100, batch_size=batch_size)\n",
    "    \n",
    "    mse, r2, evs = evaluate_model(X_test_scaled, y_test.values.reshape(-1, 1), theta)\n",
    "    print(\"Batch size: \", batch_size)\n",
    "    print(\"Test MSE: \", mse)\n",
    "    print(\"Test R-squared:\", r2)\n",
    "    print(\"Test Explained Variance: \", evs)\n",
    "    \n",
    "    y_pred = X_test_scaled.dot(theta)\n",
    "    \n",
    "    plt.scatter(y_test, y_pred)\n",
    "    plt.xlabel('Actual T_degC')\n",
    "    plt.ylabel('Predicted T_degC')\n",
    "    plt.show()\n",
    "    \n",
    "    mse, r2, evs = evaluate_model(X_train_scaled, y_train.values.reshape(-1, 1), theta)\n",
    "    print(\"Batch size: \", batch_size)\n",
    "    print(\"Train MSE: \", mse)\n",
    "    print(\"Train R-squared:\", r2)\n",
    "    print(\"Train Explained Variance: \", evs, \"\\n\")"
   ]
  },
  {
   "cell_type": "markdown",
   "id": "158dd902",
   "metadata": {},
   "source": [
    "### Part E: Conceptual Questions"
   ]
  },
  {
   "cell_type": "markdown",
   "id": "67163559",
   "metadata": {},
   "source": [
    "**Describe how parameter estimation in Gradient Descent differs from using the normal equation.**\n",
    "Gradient Descent estimates the parameters by iteratively updating them based on the error between the predicted values and the actual values in the training data, while the normal equation estimates the parameters by solving a set of equations that directly minimize the cost function. \n",
    "\n",
    "\n",
    "**We used Mini-Batch Gradient descent here, but there are a variety of options for Gradient Descent. How is Mini-Batch Gradient Descent different from Stochastic Gradient Descent?**\n",
    "Unlike in Stochastic Gradient Descent, in mini-batch gradient descent, instead of using the entire training set, a random subset of training data is used in each iteration.\n",
    "\n",
    "**Identify your best-performing version of Gradient Descent and compare the error metrics for test data vs training data. Does this version of gradient descent show signs of overfitting? Explain.**\n",
    "We can try different regression models (ex. ridge) or we can add more features. \n",
    "\n",
    "\n",
    "**Explain what the learning rate is for. Even though we did not, why might it be helpful to change the learning rate over time?**\n",
    "The learning rate is a parameter that determines how fast or slow a machine learning model learns. A high learning rate means the model learns quickly, but may not produce the best solution, and vice versa. \n",
    "\n",
    "\n",
    "**Why would a data scientist want to use early stopping in gradient descent?**\n",
    "To avoid overfitting and improve the model's generalization ability. "
   ]
  }
 ],
 "metadata": {
  "kernelspec": {
   "display_name": "Python 3 (ipykernel)",
   "language": "python",
   "name": "python3"
  },
  "language_info": {
   "codemirror_mode": {
    "name": "ipython",
    "version": 3
   },
   "file_extension": ".py",
   "mimetype": "text/x-python",
   "name": "python",
   "nbconvert_exporter": "python",
   "pygments_lexer": "ipython3",
   "version": "3.9.12"
  }
 },
 "nbformat": 4,
 "nbformat_minor": 5
}
