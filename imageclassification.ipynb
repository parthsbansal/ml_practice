{
 "cells": [
  {
   "cell_type": "markdown",
   "id": "a9e7e054",
   "metadata": {},
   "source": [
    "## Assignment 6 - Image Classification"
   ]
  },
  {
   "cell_type": "code",
   "execution_count": 1,
   "id": "b8e803ed",
   "metadata": {},
   "outputs": [
    {
     "name": "stderr",
     "output_type": "stream",
     "text": [
      "2023-05-01 12:17:09.228429: I tensorflow/core/platform/cpu_feature_guard.cc:193] This TensorFlow binary is optimized with oneAPI Deep Neural Network Library (oneDNN) to use the following CPU instructions in performance-critical operations:  SSE4.1 SSE4.2\n",
      "To enable them in other operations, rebuild TensorFlow with the appropriate compiler flags.\n"
     ]
    }
   ],
   "source": [
    "import os, glob\n",
    "import numpy as np\n",
    "import pandas as pd\n",
    "import tensorflow as tf\n",
    "\n",
    "from tensorflow.keras.preprocessing.image import ImageDataGenerator\n",
    "from tensorflow.keras.layers import Conv2D, MaxPooling2D, Flatten, Dense\n",
    "from tensorflow.keras.preprocessing import image\n",
    "from tensorflow.keras.models import load_model\n",
    "from keras.models import Sequential\n",
    "from glob import glob\n",
    "from sklearn.metrics import accuracy_score\n",
    "\n",
    "import warnings\n",
    "warnings.filterwarnings('ignore')"
   ]
  },
  {
   "cell_type": "markdown",
   "id": "c9606595",
   "metadata": {},
   "source": [
    "### Part 01: Data Processing"
   ]
  },
  {
   "cell_type": "code",
   "execution_count": 2,
   "id": "4e2cf642",
   "metadata": {},
   "outputs": [
    {
     "name": "stdout",
     "output_type": "stream",
     "text": [
      "Found 88 images belonging to 4 classes.\n"
     ]
    }
   ],
   "source": [
    "train_datagen = ImageDataGenerator(rescale=1./255, shear_range=0.2, zoom_range=0.2, horizontal_flip=True)\n",
    "train_set = train_datagen.flow_from_directory('/Users/parthbansal/Downloads/dataset_train', target_size=(64, 64), batch_size=32, class_mode='categorical')"
   ]
  },
  {
   "cell_type": "code",
   "execution_count": 3,
   "id": "f01fcebc",
   "metadata": {},
   "outputs": [
    {
     "data": {
      "text/plain": [
       "(64, 64, 3)"
      ]
     },
     "execution_count": 3,
     "metadata": {},
     "output_type": "execute_result"
    }
   ],
   "source": [
    "train_set.image_shape"
   ]
  },
  {
   "cell_type": "code",
   "execution_count": 4,
   "id": "8b6fb789",
   "metadata": {},
   "outputs": [
    {
     "data": {
      "text/plain": [
       "4"
      ]
     },
     "execution_count": 4,
     "metadata": {},
     "output_type": "execute_result"
    }
   ],
   "source": [
    "train_set.num_classes"
   ]
  },
  {
   "cell_type": "markdown",
   "id": "5f5c24e7",
   "metadata": {},
   "source": [
    "### Part 02: Initial Classifier Build"
   ]
  },
  {
   "cell_type": "code",
   "execution_count": 5,
   "id": "2e8f8ad2",
   "metadata": {},
   "outputs": [
    {
     "name": "stderr",
     "output_type": "stream",
     "text": [
      "2023-05-01 12:17:11.623830: I tensorflow/core/platform/cpu_feature_guard.cc:193] This TensorFlow binary is optimized with oneAPI Deep Neural Network Library (oneDNN) to use the following CPU instructions in performance-critical operations:  SSE4.1 SSE4.2\n",
      "To enable them in other operations, rebuild TensorFlow with the appropriate compiler flags.\n"
     ]
    }
   ],
   "source": [
    "classifier = Sequential()"
   ]
  },
  {
   "cell_type": "code",
   "execution_count": 6,
   "id": "003203b9",
   "metadata": {},
   "outputs": [],
   "source": [
    "classifier.add(Conv2D(filters=32, kernel_size=(3,3), input_shape=(64, 64, 3), activation='relu'))"
   ]
  },
  {
   "cell_type": "code",
   "execution_count": 7,
   "id": "17b8bce8",
   "metadata": {},
   "outputs": [],
   "source": [
    "classifier.add(MaxPooling2D(pool_size=(2,2)))"
   ]
  },
  {
   "cell_type": "code",
   "execution_count": 8,
   "id": "27008e66",
   "metadata": {},
   "outputs": [],
   "source": [
    "classifier.add(Conv2D(filters=64, kernel_size=(3,3), activation='relu'))"
   ]
  },
  {
   "cell_type": "code",
   "execution_count": 9,
   "id": "5dca04b3",
   "metadata": {},
   "outputs": [],
   "source": [
    "classifier.add(MaxPooling2D(pool_size=(2,2)))"
   ]
  },
  {
   "cell_type": "code",
   "execution_count": 10,
   "id": "52acb71d",
   "metadata": {},
   "outputs": [],
   "source": [
    "classifier.add(Flatten())"
   ]
  },
  {
   "cell_type": "code",
   "execution_count": 11,
   "id": "5cc572f8",
   "metadata": {},
   "outputs": [],
   "source": [
    "classifier.add(Dense(units=128, activation='relu'))"
   ]
  },
  {
   "cell_type": "code",
   "execution_count": 12,
   "id": "da44b02f",
   "metadata": {},
   "outputs": [],
   "source": [
    "classifier.add(Dense(units=train_set.num_classes, activation='softmax'))"
   ]
  },
  {
   "cell_type": "code",
   "execution_count": 13,
   "id": "bca2a8aa",
   "metadata": {},
   "outputs": [],
   "source": [
    "classifier.compile(optimizer='adam', loss='categorical_crossentropy', metrics=['accuracy'])"
   ]
  },
  {
   "cell_type": "markdown",
   "id": "8ca0c513",
   "metadata": {},
   "source": [
    "### Part 03: Model Runs "
   ]
  },
  {
   "cell_type": "code",
   "execution_count": 30,
   "id": "eeb6171a",
   "metadata": {},
   "outputs": [],
   "source": [
    "accuracy = np.array([])\n",
    "steps = np.array([])\n",
    "epoch = np.array([])"
   ]
  },
  {
   "cell_type": "code",
   "execution_count": 14,
   "id": "3b960b18",
   "metadata": {},
   "outputs": [],
   "source": [
    "steps_per_epoch = 3\n",
    "epochs = 3"
   ]
  },
  {
   "cell_type": "code",
   "execution_count": 15,
   "id": "5f280a15",
   "metadata": {},
   "outputs": [
    {
     "name": "stdout",
     "output_type": "stream",
     "text": [
      "Epoch 1/3\n",
      "3/3 [==============================] - 1s 170ms/step - loss: 1.6264 - accuracy: 0.2727\n",
      "Epoch 2/3\n",
      "3/3 [==============================] - 1s 183ms/step - loss: 0.9391 - accuracy: 0.6136\n",
      "Epoch 3/3\n",
      "3/3 [==============================] - 1s 182ms/step - loss: 0.6022 - accuracy: 0.9205\n"
     ]
    }
   ],
   "source": [
    "history = classifier.fit(train_set, steps_per_epoch = steps_per_epoch,epochs = epochs, )"
   ]
  },
  {
   "cell_type": "code",
   "execution_count": 16,
   "id": "6e2478d4",
   "metadata": {},
   "outputs": [
    {
     "name": "stdout",
     "output_type": "stream",
     "text": [
      "Saved model\n"
     ]
    }
   ],
   "source": [
    "classifier.save('my_model.h5')\n",
    "print(\"Saved model\")"
   ]
  },
  {
   "cell_type": "code",
   "execution_count": 23,
   "id": "54dc0e6f",
   "metadata": {},
   "outputs": [
    {
     "name": "stdout",
     "output_type": "stream",
     "text": [
      "1/1 [==============================] - 0s 38ms/step\n",
      "1/1 [==============================] - 0s 15ms/step\n",
      "1/1 [==============================] - 0s 14ms/step\n",
      "1/1 [==============================] - 0s 15ms/step\n",
      "1/1 [==============================] - 0s 14ms/step\n",
      "1/1 [==============================] - 0s 14ms/step\n",
      "1/1 [==============================] - 0s 13ms/step\n",
      "1/1 [==============================] - 0s 14ms/step\n"
     ]
    },
    {
     "data": {
      "text/plain": [
       "[array([3]),\n",
       " array([0]),\n",
       " array([1]),\n",
       " array([0]),\n",
       " array([1]),\n",
       " array([2]),\n",
       " array([1]),\n",
       " array([1])]"
      ]
     },
     "execution_count": 23,
     "metadata": {},
     "output_type": "execute_result"
    }
   ],
   "source": [
    "import os, glob\n",
    "import numpy as np\n",
    "from tensorflow.keras.preprocessing import image\n",
    "from tensorflow.keras.models import load_model\n",
    "model = load_model('my_model.h5')\n",
    "\n",
    "img_dir = \"/Users/parthbansal/Downloads/dataset_test\"\n",
    "data_path = os.path.join(img_dir, '*g')\n",
    "files = glob.glob(data_path)\n",
    "    \n",
    "data = []\n",
    "results = []\n",
    "for f1 in files:\n",
    "    img = image.load_img(f1, target_size = (64, 64))\n",
    "    img = image.img_to_array(img)\n",
    "    img = np.expand_dims(img, axis = 0)\n",
    "    data.append(img)\n",
    "    result = model.predict(img)\n",
    "    r = np.argmax(result, axis=1)\n",
    "    results.append(r)\n",
    "\n",
    "results"
   ]
  },
  {
   "cell_type": "code",
   "execution_count": 18,
   "id": "210e1e32",
   "metadata": {},
   "outputs": [
    {
     "data": {
      "text/plain": [
       "{'category 1': 0, 'category 2': 1, 'category 3': 2, 'category 4': 3}"
      ]
     },
     "execution_count": 18,
     "metadata": {},
     "output_type": "execute_result"
    }
   ],
   "source": [
    "train_set.class_indices"
   ]
  },
  {
   "cell_type": "code",
   "execution_count": 25,
   "id": "26b6fffe",
   "metadata": {},
   "outputs": [
    {
     "data": {
      "text/plain": [
       "array([0, 0, 0, 0, 0, 0, 0, 0, 0, 0, 0, 0, 0, 0, 0, 0, 0, 0, 0, 0, 0, 0,\n",
       "       1, 1, 1, 1, 1, 1, 1, 1, 1, 1, 1, 1, 1, 1, 1, 1, 1, 1, 1, 1, 1, 1,\n",
       "       2, 2, 2, 2, 2, 2, 2, 2, 2, 2, 2, 2, 2, 2, 2, 2, 2, 2, 2, 2, 2, 2,\n",
       "       3, 3, 3, 3, 3, 3, 3, 3, 3, 3, 3, 3, 3, 3, 3, 3, 3, 3, 3, 3, 3, 3],\n",
       "      dtype=int32)"
      ]
     },
     "execution_count": 25,
     "metadata": {},
     "output_type": "execute_result"
    }
   ],
   "source": [
    "train_set.labels"
   ]
  },
  {
   "cell_type": "code",
   "execution_count": 28,
   "id": "5a5ce7a7",
   "metadata": {},
   "outputs": [
    {
     "name": "stdout",
     "output_type": "stream",
     "text": [
      "Test set accuracy: 0.75\n"
     ]
    }
   ],
   "source": [
    "test_labels = [3,0,2,0,1,2,3,1]\n",
    "print(\"Test set accuracy:\", accuracy_score(test_labels, results))"
   ]
  },
  {
   "cell_type": "code",
   "execution_count": 33,
   "id": "9a35c3a0",
   "metadata": {},
   "outputs": [
    {
     "name": "stdout",
     "output_type": "stream",
     "text": [
      "1/1 [==============================] - 0s 454ms/step - loss: 1.3880 - accuracy: 0.3750\n",
      "1/1 [==============================] - 0s 41ms/step\n",
      "1/1 [==============================] - 0s 16ms/step\n",
      "1/1 [==============================] - 0s 14ms/step\n",
      "1/1 [==============================] - 0s 14ms/step\n",
      "1/1 [==============================] - 0s 15ms/step\n",
      "1/1 [==============================] - 0s 14ms/step\n",
      "1/1 [==============================] - 0s 14ms/step\n",
      "1/1 [==============================] - 0s 14ms/step\n",
      "0.25\n",
      "Epoch 1/2\n",
      "1/1 [==============================] - 0s 447ms/step - loss: 1.2976 - accuracy: 0.4062\n",
      "Epoch 2/2\n",
      "1/1 [==============================] - 0s 238ms/step - loss: 2.0440 - accuracy: 0.2500\n",
      "1/1 [==============================] - 0s 36ms/step\n",
      "1/1 [==============================] - 0s 15ms/step\n",
      "1/1 [==============================] - 0s 14ms/step\n",
      "1/1 [==============================] - 0s 15ms/step\n",
      "1/1 [==============================] - 0s 14ms/step\n",
      "1/1 [==============================] - 0s 14ms/step\n",
      "1/1 [==============================] - 0s 15ms/step\n",
      "1/1 [==============================] - 0s 15ms/step\n",
      "0.5\n",
      "Epoch 1/3\n",
      "1/1 [==============================] - 0s 478ms/step - loss: 1.3661 - accuracy: 0.2812\n",
      "Epoch 2/3\n",
      "1/1 [==============================] - 0s 239ms/step - loss: 1.6728 - accuracy: 0.2812\n",
      "Epoch 3/3\n",
      "1/1 [==============================] - 0s 241ms/step - loss: 1.3179 - accuracy: 0.4688\n",
      "1/1 [==============================] - 0s 44ms/step\n",
      "1/1 [==============================] - 0s 15ms/step\n",
      "1/1 [==============================] - 0s 16ms/step\n",
      "1/1 [==============================] - 0s 15ms/step\n",
      "1/1 [==============================] - 0s 15ms/step\n",
      "1/1 [==============================] - 0s 14ms/step\n",
      "1/1 [==============================] - 0s 14ms/step\n",
      "1/1 [==============================] - 0s 15ms/step\n",
      "0.375\n"
     ]
    }
   ],
   "source": [
    "for e in range(1,4):\n",
    "    results=[]\n",
    "    classifier = create_classifier(input_shape)\n",
    "    classifier.fit(train_set, steps_per_epoch = 1,epochs = e)\n",
    "    for d in range(len(data)):\n",
    "        result = classifier.predict(data[d])\n",
    "        r = np.argmax(result, axis=1)\n",
    "        results.append(r)\n",
    "    acc = accuracy_score(test_label, results)\n",
    "    print(acc)\n",
    "    accuracy= np.append(accuracy,acc)\n",
    "    steps= np.append(steps,1)\n",
    "    epoch= np.append(epoch,e) "
   ]
  },
  {
   "cell_type": "code",
   "execution_count": 34,
   "id": "3de48d7b",
   "metadata": {},
   "outputs": [
    {
     "name": "stdout",
     "output_type": "stream",
     "text": [
      "Epoch 1/4\n",
      "WARNING:tensorflow:5 out of the last 16 calls to <function Model.make_train_function.<locals>.train_function at 0x7fb988217700> triggered tf.function retracing. Tracing is expensive and the excessive number of tracings could be due to (1) creating @tf.function repeatedly in a loop, (2) passing tensors with different shapes, (3) passing Python objects instead of tensors. For (1), please define your @tf.function outside of the loop. For (2), @tf.function has reduce_retracing=True option that can avoid unnecessary retracing. For (3), please refer to https://www.tensorflow.org/guide/function#controlling_retracing and https://www.tensorflow.org/api_docs/python/tf/function for  more details.\n",
      "2/2 [==============================] - 1s 208ms/step - loss: 1.6901 - accuracy: 0.3438\n",
      "Epoch 2/4\n",
      "2/2 [==============================] - 0s 145ms/step - loss: 1.5676 - accuracy: 0.3393\n",
      "Epoch 3/4\n",
      "2/2 [==============================] - 0s 144ms/step - loss: 0.8331 - accuracy: 0.8214\n",
      "Epoch 4/4\n",
      "2/2 [==============================] - 0s 212ms/step - loss: 0.6607 - accuracy: 0.8571\n",
      "1/1 [==============================] - 0s 43ms/step\n",
      "1/1 [==============================] - 0s 16ms/step\n",
      "1/1 [==============================] - 0s 15ms/step\n",
      "1/1 [==============================] - 0s 15ms/step\n",
      "1/1 [==============================] - 0s 15ms/step\n",
      "1/1 [==============================] - 0s 16ms/step\n",
      "1/1 [==============================] - 0s 15ms/step\n",
      "1/1 [==============================] - 0s 15ms/step\n",
      "0.625\n",
      "Epoch 1/5\n",
      "2/2 [==============================] - 1s 153ms/step - loss: 1.2593 - accuracy: 0.4107\n",
      "Epoch 2/5\n",
      "2/2 [==============================] - 0s 152ms/step - loss: 0.9586 - accuracy: 0.6071\n",
      "Epoch 3/5\n",
      "2/2 [==============================] - 0s 209ms/step - loss: 0.5121 - accuracy: 0.7969\n",
      "Epoch 4/5\n",
      "2/2 [==============================] - 0s 221ms/step - loss: 0.4049 - accuracy: 0.8929\n",
      "Epoch 5/5\n",
      "2/2 [==============================] - 0s 211ms/step - loss: 0.3122 - accuracy: 0.9062\n",
      "1/1 [==============================] - 0s 38ms/step\n",
      "1/1 [==============================] - 0s 14ms/step\n",
      "1/1 [==============================] - 0s 14ms/step\n",
      "1/1 [==============================] - 0s 13ms/step\n",
      "1/1 [==============================] - 0s 14ms/step\n",
      "1/1 [==============================] - 0s 14ms/step\n",
      "1/1 [==============================] - 0s 15ms/step\n",
      "1/1 [==============================] - 0s 15ms/step\n",
      "0.875\n",
      "Epoch 1/6\n",
      "2/2 [==============================] - 1s 215ms/step - loss: 3.0347 - accuracy: 0.2143\n",
      "Epoch 2/6\n",
      "2/2 [==============================] - 0s 213ms/step - loss: 1.4439 - accuracy: 0.2500\n",
      "Epoch 3/6\n",
      "2/2 [==============================] - 0s 216ms/step - loss: 1.2966 - accuracy: 0.4286\n",
      "Epoch 4/6\n",
      "2/2 [==============================] - 0s 151ms/step - loss: 0.9809 - accuracy: 0.5179\n",
      "Epoch 5/6\n",
      "2/2 [==============================] - 0s 215ms/step - loss: 0.8190 - accuracy: 0.9062\n",
      "Epoch 6/6\n",
      "2/2 [==============================] - 0s 202ms/step - loss: 0.6413 - accuracy: 0.8906\n",
      "1/1 [==============================] - 0s 38ms/step\n",
      "1/1 [==============================] - 0s 15ms/step\n",
      "1/1 [==============================] - 0s 15ms/step\n",
      "1/1 [==============================] - 0s 15ms/step\n",
      "1/1 [==============================] - 0s 15ms/step\n",
      "1/1 [==============================] - 0s 16ms/step\n",
      "1/1 [==============================] - 0s 16ms/step\n",
      "1/1 [==============================] - 0s 16ms/step\n",
      "0.75\n"
     ]
    }
   ],
   "source": [
    "for e in range(4,7):\n",
    "    results=[]\n",
    "    classifier = create_classifier(input_shape)\n",
    "    classifier.fit(train_set, steps_per_epoch = 2,epochs = e)\n",
    "    for d in range(len(data)):\n",
    "        result = classifier.predict(data[d])\n",
    "        r = np.argmax(result, axis=1)\n",
    "        results.append(r)\n",
    "    acc = accuracy_score(test_label, results)\n",
    "    print(acc)\n",
    "    accuracy= np.append(accuracy,acc)\n",
    "    steps= np.append(steps,2)\n",
    "    epoch= np.append(epoch,e)  "
   ]
  },
  {
   "cell_type": "code",
   "execution_count": 35,
   "id": "6c3ee809",
   "metadata": {},
   "outputs": [
    {
     "name": "stdout",
     "output_type": "stream",
     "text": [
      "Epoch 1/7\n",
      "3/3 [==============================] - 1s 208ms/step - loss: 1.7895 - accuracy: 0.3182\n",
      "Epoch 2/7\n",
      "3/3 [==============================] - 1s 212ms/step - loss: 1.0310 - accuracy: 0.6250\n",
      "Epoch 3/7\n",
      "3/3 [==============================] - 1s 182ms/step - loss: 0.7069 - accuracy: 0.7614\n",
      "Epoch 4/7\n",
      "3/3 [==============================] - 1s 182ms/step - loss: 0.4420 - accuracy: 0.9091\n",
      "Epoch 5/7\n",
      "3/3 [==============================] - 1s 173ms/step - loss: 0.2931 - accuracy: 0.9432\n",
      "Epoch 6/7\n",
      "3/3 [==============================] - 1s 172ms/step - loss: 0.1923 - accuracy: 0.9545\n",
      "Epoch 7/7\n",
      "3/3 [==============================] - 1s 173ms/step - loss: 0.1537 - accuracy: 0.9659\n",
      "1/1 [==============================] - 0s 38ms/step\n",
      "1/1 [==============================] - 0s 14ms/step\n",
      "1/1 [==============================] - 0s 14ms/step\n",
      "1/1 [==============================] - 0s 15ms/step\n",
      "1/1 [==============================] - 0s 14ms/step\n",
      "1/1 [==============================] - 0s 15ms/step\n",
      "1/1 [==============================] - 0s 14ms/step\n",
      "1/1 [==============================] - 0s 13ms/step\n",
      "0.875\n",
      "Epoch 1/8\n",
      "3/3 [==============================] - 1s 205ms/step - loss: 1.5509 - accuracy: 0.2386\n",
      "Epoch 2/8\n",
      "3/3 [==============================] - 1s 210ms/step - loss: 0.9740 - accuracy: 0.7045\n",
      "Epoch 3/8\n",
      "3/3 [==============================] - 1s 210ms/step - loss: 0.5235 - accuracy: 0.9205\n",
      "Epoch 4/8\n",
      "3/3 [==============================] - 1s 189ms/step - loss: 0.3316 - accuracy: 0.9205\n",
      "Epoch 5/8\n",
      "3/3 [==============================] - 1s 182ms/step - loss: 0.2071 - accuracy: 0.9318\n",
      "Epoch 6/8\n",
      "3/3 [==============================] - 1s 180ms/step - loss: 0.2248 - accuracy: 0.9432\n",
      "Epoch 7/8\n",
      "3/3 [==============================] - 1s 175ms/step - loss: 0.1678 - accuracy: 0.9545\n",
      "Epoch 8/8\n",
      "3/3 [==============================] - 1s 178ms/step - loss: 0.1448 - accuracy: 0.9545\n",
      "1/1 [==============================] - 0s 39ms/step\n",
      "1/1 [==============================] - 0s 17ms/step\n",
      "1/1 [==============================] - 0s 14ms/step\n",
      "1/1 [==============================] - 0s 16ms/step\n",
      "1/1 [==============================] - 0s 15ms/step\n",
      "1/1 [==============================] - 0s 15ms/step\n",
      "1/1 [==============================] - 0s 15ms/step\n",
      "1/1 [==============================] - 0s 15ms/step\n",
      "0.875\n"
     ]
    }
   ],
   "source": [
    "for e in range(7,9):\n",
    "    results=[]\n",
    "    classifier = create_classifier(input_shape)\n",
    "    classifier.fit(train_set, steps_per_epoch = 3,epochs = e)\n",
    "    for d in range(len(data)):\n",
    "        result = classifier.predict(data[d])\n",
    "        r = np.argmax(result, axis=1)\n",
    "        results.append(r)\n",
    "    acc = accuracy_score(test_label, results)\n",
    "    print(acc)\n",
    "    accuracy= np.append(accuracy,acc)\n",
    "    steps= np.append(steps,3)\n",
    "    epoch= np.append(epoch,e)   "
   ]
  },
  {
   "cell_type": "code",
   "execution_count": 39,
   "id": "a4b1614c",
   "metadata": {},
   "outputs": [
    {
     "name": "stdout",
     "output_type": "stream",
     "text": [
      "Epoch 9\n",
      "Found 88 images belonging to 4 classes.\n",
      "Epoch 1/9\n",
      "5/5 [==============================] - 0s 9ms/step - loss: 1.7411 - accuracy: 0.4062\n",
      "Epoch 2/9\n",
      "5/5 [==============================] - 0s 11ms/step - loss: 0.7965 - accuracy: 0.7500\n",
      "Epoch 3/9\n",
      "5/5 [==============================] - 0s 11ms/step - loss: 0.3889 - accuracy: 0.9375\n",
      "Epoch 4/9\n",
      "5/5 [==============================] - 0s 11ms/step - loss: 0.2137 - accuracy: 0.8750\n",
      "Epoch 5/9\n",
      "5/5 [==============================] - 0s 11ms/step - loss: 0.0756 - accuracy: 0.9688\n",
      "Epoch 6/9\n",
      "5/5 [==============================] - 0s 10ms/step - loss: 0.0206 - accuracy: 1.0000\n",
      "Epoch 7/9\n",
      "5/5 [==============================] - 0s 10ms/step - loss: 0.0116 - accuracy: 1.0000\n",
      "Epoch 8/9\n",
      "5/5 [==============================] - 0s 9ms/step - loss: 0.0049 - accuracy: 1.0000\n",
      "Epoch 9/9\n",
      "5/5 [==============================] - 0s 10ms/step - loss: 0.0014 - accuracy: 1.0000\n",
      "Epoch 1/9\n",
      "5/5 [==============================] - 0s 9ms/step - loss: 1.9106 - accuracy: 0.2500\n",
      "Epoch 2/9\n",
      "5/5 [==============================] - 0s 9ms/step - loss: 1.0402 - accuracy: 0.6250\n",
      "Epoch 3/9\n",
      "5/5 [==============================] - 0s 9ms/step - loss: 0.7022 - accuracy: 0.8750\n",
      "Epoch 4/9\n",
      "5/5 [==============================] - 0s 9ms/step - loss: 0.2748 - accuracy: 0.9375\n",
      "Epoch 5/9\n",
      "5/5 [==============================] - 0s 10ms/step - loss: 0.0892 - accuracy: 0.9688\n",
      "Epoch 6/9\n",
      "5/5 [==============================] - 0s 10ms/step - loss: 0.0382 - accuracy: 1.0000\n",
      "Epoch 7/9\n",
      "5/5 [==============================] - 0s 10ms/step - loss: 0.0072 - accuracy: 1.0000\n",
      "Epoch 8/9\n",
      "5/5 [==============================] - 0s 10ms/step - loss: 0.0042 - accuracy: 1.0000\n",
      "Epoch 9/9\n",
      "5/5 [==============================] - 0s 10ms/step - loss: 0.0014 - accuracy: 1.0000\n",
      "Epoch 1/9\n",
      "5/5 [==============================] - 0s 9ms/step - loss: 2.2167 - accuracy: 0.3750\n",
      "Epoch 2/9\n",
      "5/5 [==============================] - 0s 8ms/step - loss: 1.1444 - accuracy: 0.5833\n",
      "Epoch 3/9\n",
      "5/5 [==============================] - 0s 9ms/step - loss: 0.5486 - accuracy: 0.9167\n",
      "Epoch 4/9\n",
      "5/5 [==============================] - 0s 8ms/step - loss: 0.1823 - accuracy: 1.0000\n",
      "Epoch 5/9\n",
      "5/5 [==============================] - 0s 8ms/step - loss: 0.0313 - accuracy: 1.0000\n",
      "Epoch 6/9\n",
      "5/5 [==============================] - 0s 8ms/step - loss: 0.0068 - accuracy: 1.0000\n",
      "Epoch 7/9\n",
      "5/5 [==============================] - 0s 9ms/step - loss: 0.0015 - accuracy: 1.0000\n",
      "Epoch 8/9\n",
      "5/5 [==============================] - 0s 9ms/step - loss: 3.6197e-04 - accuracy: 1.0000\n",
      "Epoch 9/9\n",
      "5/5 [==============================] - 0s 9ms/step - loss: 1.8730e-04 - accuracy: 1.0000\n",
      "Epoch 1/9\n",
      "5/5 [==============================] - 0s 10ms/step - loss: 1.8027 - accuracy: 0.5312\n",
      "Epoch 2/9\n",
      "5/5 [==============================] - 0s 11ms/step - loss: 0.6641 - accuracy: 0.7812\n",
      "Epoch 3/9\n",
      "5/5 [==============================] - 0s 11ms/step - loss: 0.2426 - accuracy: 1.0000\n",
      "Epoch 4/9\n",
      "5/5 [==============================] - 0s 12ms/step - loss: 0.0791 - accuracy: 1.0000\n",
      "Epoch 5/9\n",
      "5/5 [==============================] - 0s 10ms/step - loss: 0.0211 - accuracy: 1.0000\n",
      "Epoch 6/9\n",
      "5/5 [==============================] - 0s 12ms/step - loss: 0.0041 - accuracy: 1.0000\n",
      "Epoch 7/9\n",
      "5/5 [==============================] - 0s 10ms/step - loss: 0.0026 - accuracy: 1.0000\n",
      "Epoch 8/9\n",
      "5/5 [==============================] - 0s 11ms/step - loss: 8.6024e-04 - accuracy: 1.0000\n",
      "Epoch 9/9\n",
      "5/5 [==============================] - 0s 12ms/step - loss: 3.8568e-04 - accuracy: 1.0000\n",
      "Epoch 1/9\n",
      "5/5 [==============================] - 0s 10ms/step - loss: 2.0564 - accuracy: 0.1562\n",
      "Epoch 2/9\n",
      "5/5 [==============================] - 0s 10ms/step - loss: 1.3053 - accuracy: 0.3438\n",
      "Epoch 3/9\n",
      "5/5 [==============================] - 0s 10ms/step - loss: 0.9822 - accuracy: 0.7188\n",
      "Epoch 4/9\n",
      "5/5 [==============================] - 0s 10ms/step - loss: 0.5330 - accuracy: 0.9062\n",
      "Epoch 5/9\n",
      "5/5 [==============================] - 0s 10ms/step - loss: 0.2759 - accuracy: 0.9062\n",
      "Epoch 6/9\n",
      "5/5 [==============================] - 0s 9ms/step - loss: 0.1753 - accuracy: 0.9688\n",
      "Epoch 7/9\n",
      "5/5 [==============================] - 0s 9ms/step - loss: 0.0373 - accuracy: 1.0000\n",
      "Epoch 8/9\n",
      "5/5 [==============================] - 0s 9ms/step - loss: 0.0220 - accuracy: 1.0000\n",
      "Epoch 9/9\n",
      "5/5 [==============================] - 0s 10ms/step - loss: 0.0075 - accuracy: 1.0000\n",
      "1/1 [==============================] - 0s 40ms/step\n",
      "1/1 [==============================] - 0s 14ms/step\n",
      "1/1 [==============================] - 0s 16ms/step\n",
      "1/1 [==============================] - 0s 15ms/step\n",
      "1/1 [==============================] - 0s 16ms/step\n",
      "1/1 [==============================] - 0s 15ms/step\n",
      "1/1 [==============================] - 0s 15ms/step\n",
      "1/1 [==============================] - 0s 15ms/step\n",
      "0.75\n",
      "Epoch 10\n",
      "Found 88 images belonging to 4 classes.\n",
      "Epoch 1/10\n",
      "5/5 [==============================] - 0s 10ms/step - loss: 1.5347 - accuracy: 0.4375\n",
      "Epoch 2/10\n",
      "5/5 [==============================] - 0s 10ms/step - loss: 0.9545 - accuracy: 0.6250\n",
      "Epoch 3/10\n",
      "5/5 [==============================] - 0s 9ms/step - loss: 0.4186 - accuracy: 0.9062\n",
      "Epoch 4/10\n",
      "5/5 [==============================] - 0s 9ms/step - loss: 0.1497 - accuracy: 0.9688\n",
      "Epoch 5/10\n",
      "5/5 [==============================] - 0s 9ms/step - loss: 0.0946 - accuracy: 0.9688\n",
      "Epoch 6/10\n",
      "5/5 [==============================] - 0s 10ms/step - loss: 0.0123 - accuracy: 1.0000\n",
      "Epoch 7/10\n",
      "5/5 [==============================] - 0s 10ms/step - loss: 0.0047 - accuracy: 1.0000\n",
      "Epoch 8/10\n",
      "5/5 [==============================] - 0s 10ms/step - loss: 0.0017 - accuracy: 1.0000\n",
      "Epoch 9/10\n",
      "5/5 [==============================] - 0s 10ms/step - loss: 7.1873e-04 - accuracy: 1.0000\n",
      "Epoch 10/10\n",
      "5/5 [==============================] - 0s 10ms/step - loss: 4.4256e-04 - accuracy: 1.0000\n",
      "Epoch 1/10\n",
      "5/5 [==============================] - 0s 9ms/step - loss: 1.5439 - accuracy: 0.3125\n",
      "Epoch 2/10\n",
      "5/5 [==============================] - 0s 10ms/step - loss: 0.9795 - accuracy: 0.6562\n",
      "Epoch 3/10\n",
      "5/5 [==============================] - 0s 10ms/step - loss: 0.5923 - accuracy: 0.7812\n",
      "Epoch 4/10\n",
      "5/5 [==============================] - 0s 10ms/step - loss: 0.2271 - accuracy: 0.9688\n",
      "Epoch 5/10\n",
      "5/5 [==============================] - 0s 10ms/step - loss: 0.0897 - accuracy: 1.0000\n",
      "Epoch 6/10\n",
      "5/5 [==============================] - 0s 11ms/step - loss: 0.0189 - accuracy: 1.0000\n",
      "Epoch 7/10\n",
      "5/5 [==============================] - 0s 12ms/step - loss: 0.0056 - accuracy: 1.0000\n",
      "Epoch 8/10\n",
      "5/5 [==============================] - 0s 11ms/step - loss: 0.0020 - accuracy: 1.0000\n",
      "Epoch 9/10\n",
      "5/5 [==============================] - 0s 10ms/step - loss: 0.0010 - accuracy: 1.0000\n",
      "Epoch 10/10\n",
      "5/5 [==============================] - 0s 10ms/step - loss: 6.6680e-04 - accuracy: 1.0000\n",
      "Epoch 1/10\n",
      "5/5 [==============================] - 0s 8ms/step - loss: 1.8289 - accuracy: 0.2083\n",
      "Epoch 2/10\n",
      "5/5 [==============================] - 0s 8ms/step - loss: 1.0503 - accuracy: 0.5000\n",
      "Epoch 3/10\n",
      "5/5 [==============================] - 0s 8ms/step - loss: 0.4149 - accuracy: 0.9583\n",
      "Epoch 4/10\n",
      "5/5 [==============================] - 0s 8ms/step - loss: 0.1338 - accuracy: 1.0000\n",
      "Epoch 5/10\n",
      "5/5 [==============================] - 0s 8ms/step - loss: 0.0367 - accuracy: 1.0000\n",
      "Epoch 6/10\n",
      "5/5 [==============================] - 0s 8ms/step - loss: 0.0056 - accuracy: 1.0000\n",
      "Epoch 7/10\n",
      "5/5 [==============================] - 0s 8ms/step - loss: 0.0013 - accuracy: 1.0000\n",
      "Epoch 8/10\n",
      "5/5 [==============================] - 0s 8ms/step - loss: 3.0643e-04 - accuracy: 1.0000\n",
      "Epoch 9/10\n",
      "5/5 [==============================] - 0s 9ms/step - loss: 9.1988e-05 - accuracy: 1.0000\n",
      "Epoch 10/10\n",
      "5/5 [==============================] - 0s 8ms/step - loss: 2.9478e-05 - accuracy: 1.0000\n",
      "Epoch 1/10\n",
      "5/5 [==============================] - 0s 10ms/step - loss: 1.6624 - accuracy: 0.4375\n",
      "Epoch 2/10\n",
      "5/5 [==============================] - 0s 10ms/step - loss: 1.1145 - accuracy: 0.7500\n",
      "Epoch 3/10\n",
      "5/5 [==============================] - 0s 10ms/step - loss: 0.7251 - accuracy: 0.7188\n",
      "Epoch 4/10\n",
      "5/5 [==============================] - 0s 10ms/step - loss: 0.4444 - accuracy: 0.9062\n",
      "Epoch 5/10\n",
      "5/5 [==============================] - 0s 10ms/step - loss: 0.1668 - accuracy: 1.0000\n",
      "Epoch 6/10\n",
      "5/5 [==============================] - 0s 10ms/step - loss: 0.0481 - accuracy: 1.0000\n",
      "Epoch 7/10\n",
      "5/5 [==============================] - 0s 9ms/step - loss: 0.0087 - accuracy: 1.0000\n",
      "Epoch 8/10\n",
      "5/5 [==============================] - 0s 9ms/step - loss: 0.0043 - accuracy: 1.0000\n",
      "Epoch 9/10\n",
      "5/5 [==============================] - 0s 9ms/step - loss: 9.5072e-04 - accuracy: 1.0000\n",
      "Epoch 10/10\n",
      "5/5 [==============================] - 0s 9ms/step - loss: 6.8923e-04 - accuracy: 1.0000\n",
      "Epoch 1/10\n",
      "5/5 [==============================] - 0s 9ms/step - loss: 1.9585 - accuracy: 0.3125\n",
      "Epoch 2/10\n",
      "5/5 [==============================] - 0s 9ms/step - loss: 1.0902 - accuracy: 0.6250\n",
      "Epoch 3/10\n",
      "5/5 [==============================] - 0s 10ms/step - loss: 0.7457 - accuracy: 0.8750\n",
      "Epoch 4/10\n",
      "5/5 [==============================] - 0s 9ms/step - loss: 0.3580 - accuracy: 0.9062\n",
      "Epoch 5/10\n",
      "5/5 [==============================] - 0s 9ms/step - loss: 0.2242 - accuracy: 0.9688\n",
      "Epoch 6/10\n",
      "5/5 [==============================] - 0s 9ms/step - loss: 0.1564 - accuracy: 0.9375\n",
      "Epoch 7/10\n",
      "5/5 [==============================] - 0s 9ms/step - loss: 0.0634 - accuracy: 0.9688\n",
      "Epoch 8/10\n",
      "5/5 [==============================] - 0s 9ms/step - loss: 0.0247 - accuracy: 1.0000\n",
      "Epoch 9/10\n",
      "5/5 [==============================] - 0s 9ms/step - loss: 0.0171 - accuracy: 1.0000\n",
      "Epoch 10/10\n",
      "5/5 [==============================] - 0s 9ms/step - loss: 0.0069 - accuracy: 1.0000\n",
      "1/1 [==============================] - 0s 38ms/step\n",
      "1/1 [==============================] - 0s 15ms/step\n",
      "1/1 [==============================] - 0s 14ms/step\n",
      "1/1 [==============================] - 0s 14ms/step\n",
      "1/1 [==============================] - 0s 14ms/step\n",
      "1/1 [==============================] - 0s 13ms/step\n",
      "1/1 [==============================] - 0s 17ms/step\n",
      "1/1 [==============================] - 0s 14ms/step\n",
      "0.75\n"
     ]
    }
   ],
   "source": [
    "for e in range(9,11):\n",
    "    print('Epoch', e)\n",
    "    batches = 0\n",
    "    for x_batch, y_batch in train_datagen.flow_from_directory('/Users/parthbansal/Downloads/dataset_train', target_size=(64, 64), batch_size = 32, class_mode = 'categorical', seed = 74):\n",
    "        classifier = create_classifier(input_shape)\n",
    "        classifier.fit(x_batch, y_batch, steps_per_epoch = 5,epochs = e)\n",
    "        batches += 1\n",
    "        if batches >= n_batch:\n",
    "            break\n",
    "    results=[]\n",
    "    for d in range(len(data)):\n",
    "        result = classifier.predict(data[d])\n",
    "        r = np.argmax(result, axis=1)\n",
    "        results.append(r)\n",
    "    acc = accuracy_score(test_label, results)\n",
    "    print(acc)\n",
    "    accuracy= np.append(accuracy,acc)\n",
    "    steps= np.append(steps,5)\n",
    "    epoch= np.append(epoch,e) "
   ]
  },
  {
   "cell_type": "code",
   "execution_count": 45,
   "id": "3451c81b",
   "metadata": {},
   "outputs": [
    {
     "data": {
      "text/html": [
       "<div>\n",
       "<style scoped>\n",
       "    .dataframe tbody tr th:only-of-type {\n",
       "        vertical-align: middle;\n",
       "    }\n",
       "\n",
       "    .dataframe tbody tr th {\n",
       "        vertical-align: top;\n",
       "    }\n",
       "\n",
       "    .dataframe thead th {\n",
       "        text-align: right;\n",
       "    }\n",
       "</style>\n",
       "<table border=\"1\" class=\"dataframe\">\n",
       "  <thead>\n",
       "    <tr style=\"text-align: right;\">\n",
       "      <th></th>\n",
       "      <th>accuracy</th>\n",
       "      <th>epochs</th>\n",
       "      <th>steps per epoch</th>\n",
       "    </tr>\n",
       "  </thead>\n",
       "  <tbody>\n",
       "    <tr>\n",
       "      <th>0</th>\n",
       "      <td>0.250</td>\n",
       "      <td>1.0</td>\n",
       "      <td>1.0</td>\n",
       "    </tr>\n",
       "    <tr>\n",
       "      <th>1</th>\n",
       "      <td>0.500</td>\n",
       "      <td>2.0</td>\n",
       "      <td>1.0</td>\n",
       "    </tr>\n",
       "    <tr>\n",
       "      <th>2</th>\n",
       "      <td>0.375</td>\n",
       "      <td>3.0</td>\n",
       "      <td>1.0</td>\n",
       "    </tr>\n",
       "    <tr>\n",
       "      <th>3</th>\n",
       "      <td>0.625</td>\n",
       "      <td>4.0</td>\n",
       "      <td>2.0</td>\n",
       "    </tr>\n",
       "    <tr>\n",
       "      <th>4</th>\n",
       "      <td>0.875</td>\n",
       "      <td>5.0</td>\n",
       "      <td>2.0</td>\n",
       "    </tr>\n",
       "    <tr>\n",
       "      <th>5</th>\n",
       "      <td>0.750</td>\n",
       "      <td>6.0</td>\n",
       "      <td>2.0</td>\n",
       "    </tr>\n",
       "    <tr>\n",
       "      <th>6</th>\n",
       "      <td>0.875</td>\n",
       "      <td>7.0</td>\n",
       "      <td>3.0</td>\n",
       "    </tr>\n",
       "    <tr>\n",
       "      <th>7</th>\n",
       "      <td>0.875</td>\n",
       "      <td>8.0</td>\n",
       "      <td>3.0</td>\n",
       "    </tr>\n",
       "    <tr>\n",
       "      <th>8</th>\n",
       "      <td>0.750</td>\n",
       "      <td>9.0</td>\n",
       "      <td>5.0</td>\n",
       "    </tr>\n",
       "    <tr>\n",
       "      <th>9</th>\n",
       "      <td>0.750</td>\n",
       "      <td>10.0</td>\n",
       "      <td>5.0</td>\n",
       "    </tr>\n",
       "  </tbody>\n",
       "</table>\n",
       "</div>"
      ],
      "text/plain": [
       "   accuracy  epochs  steps per epoch\n",
       "0     0.250     1.0              1.0\n",
       "1     0.500     2.0              1.0\n",
       "2     0.375     3.0              1.0\n",
       "3     0.625     4.0              2.0\n",
       "4     0.875     5.0              2.0\n",
       "5     0.750     6.0              2.0\n",
       "6     0.875     7.0              3.0\n",
       "7     0.875     8.0              3.0\n",
       "8     0.750     9.0              5.0\n",
       "9     0.750    10.0              5.0"
      ]
     },
     "execution_count": 45,
     "metadata": {},
     "output_type": "execute_result"
    }
   ],
   "source": [
    "results"
   ]
  },
  {
   "cell_type": "markdown",
   "id": "41e1cf86",
   "metadata": {},
   "source": [
    "### Part 04: Conceptual Questions "
   ]
  },
  {
   "cell_type": "markdown",
   "id": "0e3e502a",
   "metadata": {},
   "source": [
    "**4. Discuss the effect of the following on accuracy and loss (train & test):** \n",
    "    **Increasing the steps_per_epoch**\n",
    "    **Increasing the number of epochs**\n",
    "- Increasing the steps_per_epoch can lead to a more precise update of the weights in the neural network, which can improve both the training and testing accuracy. However, increasing the number of epochs can lead to overfitting, which can reduce the testing accuracy while improving the training accuracy. \n",
    "\n",
    "**5. Name two uses of zero padding in CNN.**\n",
    "- To preserve spatial resolution of the input image during convolutional layers. Without padding, the output feature maps are smaller than the input, and it can lead to the loss of important information on the edges or corners of the image. \n",
    "- To allow for the detection of features at the image borders. When using convolutional filters on the edges of an image, some parts of the filter may lie outside of the image and be discarded. By padding the image with zeros, the edges of the image can be extended, allowing the filter to detect features at the borders.\n",
    "\n",
    "**6. What is the use of a 1 x 1 kernel in CNN?** \n",
    "- Reducing the number of channels or feature maps. By applying a 1 x 1 kernel to each input channel, we can reduce the number of channels in the output feature map. Also, it can help for non-linear transformations of feature maps.\n",
    "\n",
    "**7. What are the advantages of a CNN over a fully connected DNN for this image classification problem?**\n",
    "- It has less number of parameters compared to a fully connected DNN and allows for more efficient training.\n",
    "- CNNs are able to recognize the same feature regardless of its location in the input image, making them more robust to translation and distortion.\n",
    "- It requires much less training data"
   ]
  },
  {
   "cell_type": "code",
   "execution_count": null,
   "id": "85c36990",
   "metadata": {},
   "outputs": [],
   "source": []
  }
 ],
 "metadata": {
  "kernelspec": {
   "display_name": "Python 3 (ipykernel)",
   "language": "python",
   "name": "python3"
  },
  "language_info": {
   "codemirror_mode": {
    "name": "ipython",
    "version": 3
   },
   "file_extension": ".py",
   "mimetype": "text/x-python",
   "name": "python",
   "nbconvert_exporter": "python",
   "pygments_lexer": "ipython3",
   "version": "3.9.12"
  }
 },
 "nbformat": 4,
 "nbformat_minor": 5
}
