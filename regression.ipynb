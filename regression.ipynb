{
 "cells": [
  {
   "cell_type": "markdown",
   "id": "2099c857",
   "metadata": {},
   "source": [
    "## Assignment 1 - Regression (Normal Equation)"
   ]
  },
  {
   "cell_type": "markdown",
   "id": "04a6c5eb",
   "metadata": {},
   "source": [
    "### Parth Bansal"
   ]
  },
  {
   "cell_type": "code",
   "execution_count": 1,
   "id": "033c2f8f",
   "metadata": {},
   "outputs": [],
   "source": [
    "import pandas as pd\n",
    "import matplotlib.pyplot as plt\n",
    "import seaborn as sns\n",
    "from sklearn.model_selection import train_test_split\n",
    "import numpy as np\n",
    "from sklearn.metrics import mean_squared_error, r2_score, explained_variance_score\n",
    "from sklearn.linear_model import LinearRegression"
   ]
  },
  {
   "cell_type": "markdown",
   "id": "b6255574",
   "metadata": {},
   "source": [
    "### Part A: Data Cleaning & Exploratory Analysis"
   ]
  },
  {
   "cell_type": "markdown",
   "id": "9409d165",
   "metadata": {},
   "source": [
    "#### (1) Import full data set using Pandas, and verify that the shape is: (864863, 74)"
   ]
  },
  {
   "cell_type": "code",
   "execution_count": 2,
   "id": "fa4ef9bc",
   "metadata": {},
   "outputs": [
    {
     "name": "stderr",
     "output_type": "stream",
     "text": [
      "/var/folders/0y/n_xgd2n97837m629ymdq84rr0000gn/T/ipykernel_17160/2279483484.py:1: DtypeWarning: Columns (47,73) have mixed types. Specify dtype option on import or set low_memory=False.\n",
      "  df = pd.read_csv('/Users/parthbansal/Downloads/bottle.csv')\n"
     ]
    },
    {
     "data": {
      "text/html": [
       "<div>\n",
       "<style scoped>\n",
       "    .dataframe tbody tr th:only-of-type {\n",
       "        vertical-align: middle;\n",
       "    }\n",
       "\n",
       "    .dataframe tbody tr th {\n",
       "        vertical-align: top;\n",
       "    }\n",
       "\n",
       "    .dataframe thead th {\n",
       "        text-align: right;\n",
       "    }\n",
       "</style>\n",
       "<table border=\"1\" class=\"dataframe\">\n",
       "  <thead>\n",
       "    <tr style=\"text-align: right;\">\n",
       "      <th></th>\n",
       "      <th>Cst_Cnt</th>\n",
       "      <th>Btl_Cnt</th>\n",
       "      <th>Sta_ID</th>\n",
       "      <th>Depth_ID</th>\n",
       "      <th>Depthm</th>\n",
       "      <th>T_degC</th>\n",
       "      <th>Salnty</th>\n",
       "      <th>O2ml_L</th>\n",
       "      <th>STheta</th>\n",
       "      <th>O2Sat</th>\n",
       "      <th>...</th>\n",
       "      <th>R_PHAEO</th>\n",
       "      <th>R_PRES</th>\n",
       "      <th>R_SAMP</th>\n",
       "      <th>DIC1</th>\n",
       "      <th>DIC2</th>\n",
       "      <th>TA1</th>\n",
       "      <th>TA2</th>\n",
       "      <th>pH2</th>\n",
       "      <th>pH1</th>\n",
       "      <th>DIC Quality Comment</th>\n",
       "    </tr>\n",
       "  </thead>\n",
       "  <tbody>\n",
       "    <tr>\n",
       "      <th>0</th>\n",
       "      <td>1</td>\n",
       "      <td>1</td>\n",
       "      <td>054.0 056.0</td>\n",
       "      <td>19-4903CR-HY-060-0930-05400560-0000A-3</td>\n",
       "      <td>0</td>\n",
       "      <td>10.50</td>\n",
       "      <td>33.440</td>\n",
       "      <td>NaN</td>\n",
       "      <td>25.649</td>\n",
       "      <td>NaN</td>\n",
       "      <td>...</td>\n",
       "      <td>NaN</td>\n",
       "      <td>0</td>\n",
       "      <td>NaN</td>\n",
       "      <td>NaN</td>\n",
       "      <td>NaN</td>\n",
       "      <td>NaN</td>\n",
       "      <td>NaN</td>\n",
       "      <td>NaN</td>\n",
       "      <td>NaN</td>\n",
       "      <td>NaN</td>\n",
       "    </tr>\n",
       "    <tr>\n",
       "      <th>1</th>\n",
       "      <td>1</td>\n",
       "      <td>2</td>\n",
       "      <td>054.0 056.0</td>\n",
       "      <td>19-4903CR-HY-060-0930-05400560-0008A-3</td>\n",
       "      <td>8</td>\n",
       "      <td>10.46</td>\n",
       "      <td>33.440</td>\n",
       "      <td>NaN</td>\n",
       "      <td>25.656</td>\n",
       "      <td>NaN</td>\n",
       "      <td>...</td>\n",
       "      <td>NaN</td>\n",
       "      <td>8</td>\n",
       "      <td>NaN</td>\n",
       "      <td>NaN</td>\n",
       "      <td>NaN</td>\n",
       "      <td>NaN</td>\n",
       "      <td>NaN</td>\n",
       "      <td>NaN</td>\n",
       "      <td>NaN</td>\n",
       "      <td>NaN</td>\n",
       "    </tr>\n",
       "    <tr>\n",
       "      <th>2</th>\n",
       "      <td>1</td>\n",
       "      <td>3</td>\n",
       "      <td>054.0 056.0</td>\n",
       "      <td>19-4903CR-HY-060-0930-05400560-0010A-7</td>\n",
       "      <td>10</td>\n",
       "      <td>10.46</td>\n",
       "      <td>33.437</td>\n",
       "      <td>NaN</td>\n",
       "      <td>25.654</td>\n",
       "      <td>NaN</td>\n",
       "      <td>...</td>\n",
       "      <td>NaN</td>\n",
       "      <td>10</td>\n",
       "      <td>NaN</td>\n",
       "      <td>NaN</td>\n",
       "      <td>NaN</td>\n",
       "      <td>NaN</td>\n",
       "      <td>NaN</td>\n",
       "      <td>NaN</td>\n",
       "      <td>NaN</td>\n",
       "      <td>NaN</td>\n",
       "    </tr>\n",
       "    <tr>\n",
       "      <th>3</th>\n",
       "      <td>1</td>\n",
       "      <td>4</td>\n",
       "      <td>054.0 056.0</td>\n",
       "      <td>19-4903CR-HY-060-0930-05400560-0019A-3</td>\n",
       "      <td>19</td>\n",
       "      <td>10.45</td>\n",
       "      <td>33.420</td>\n",
       "      <td>NaN</td>\n",
       "      <td>25.643</td>\n",
       "      <td>NaN</td>\n",
       "      <td>...</td>\n",
       "      <td>NaN</td>\n",
       "      <td>19</td>\n",
       "      <td>NaN</td>\n",
       "      <td>NaN</td>\n",
       "      <td>NaN</td>\n",
       "      <td>NaN</td>\n",
       "      <td>NaN</td>\n",
       "      <td>NaN</td>\n",
       "      <td>NaN</td>\n",
       "      <td>NaN</td>\n",
       "    </tr>\n",
       "    <tr>\n",
       "      <th>4</th>\n",
       "      <td>1</td>\n",
       "      <td>5</td>\n",
       "      <td>054.0 056.0</td>\n",
       "      <td>19-4903CR-HY-060-0930-05400560-0020A-7</td>\n",
       "      <td>20</td>\n",
       "      <td>10.45</td>\n",
       "      <td>33.421</td>\n",
       "      <td>NaN</td>\n",
       "      <td>25.643</td>\n",
       "      <td>NaN</td>\n",
       "      <td>...</td>\n",
       "      <td>NaN</td>\n",
       "      <td>20</td>\n",
       "      <td>NaN</td>\n",
       "      <td>NaN</td>\n",
       "      <td>NaN</td>\n",
       "      <td>NaN</td>\n",
       "      <td>NaN</td>\n",
       "      <td>NaN</td>\n",
       "      <td>NaN</td>\n",
       "      <td>NaN</td>\n",
       "    </tr>\n",
       "  </tbody>\n",
       "</table>\n",
       "<p>5 rows × 74 columns</p>\n",
       "</div>"
      ],
      "text/plain": [
       "   Cst_Cnt  Btl_Cnt       Sta_ID                                Depth_ID  \\\n",
       "0        1        1  054.0 056.0  19-4903CR-HY-060-0930-05400560-0000A-3   \n",
       "1        1        2  054.0 056.0  19-4903CR-HY-060-0930-05400560-0008A-3   \n",
       "2        1        3  054.0 056.0  19-4903CR-HY-060-0930-05400560-0010A-7   \n",
       "3        1        4  054.0 056.0  19-4903CR-HY-060-0930-05400560-0019A-3   \n",
       "4        1        5  054.0 056.0  19-4903CR-HY-060-0930-05400560-0020A-7   \n",
       "\n",
       "   Depthm  T_degC  Salnty  O2ml_L  STheta  O2Sat  ...  R_PHAEO  R_PRES  \\\n",
       "0       0   10.50  33.440     NaN  25.649    NaN  ...      NaN       0   \n",
       "1       8   10.46  33.440     NaN  25.656    NaN  ...      NaN       8   \n",
       "2      10   10.46  33.437     NaN  25.654    NaN  ...      NaN      10   \n",
       "3      19   10.45  33.420     NaN  25.643    NaN  ...      NaN      19   \n",
       "4      20   10.45  33.421     NaN  25.643    NaN  ...      NaN      20   \n",
       "\n",
       "   R_SAMP  DIC1  DIC2  TA1  TA2  pH2  pH1  DIC Quality Comment  \n",
       "0     NaN   NaN   NaN  NaN  NaN  NaN  NaN                  NaN  \n",
       "1     NaN   NaN   NaN  NaN  NaN  NaN  NaN                  NaN  \n",
       "2     NaN   NaN   NaN  NaN  NaN  NaN  NaN                  NaN  \n",
       "3     NaN   NaN   NaN  NaN  NaN  NaN  NaN                  NaN  \n",
       "4     NaN   NaN   NaN  NaN  NaN  NaN  NaN                  NaN  \n",
       "\n",
       "[5 rows x 74 columns]"
      ]
     },
     "execution_count": 2,
     "metadata": {},
     "output_type": "execute_result"
    }
   ],
   "source": [
    "df = pd.read_csv('/Users/parthbansal/Downloads/bottle.csv')\n",
    "df.head()"
   ]
  },
  {
   "cell_type": "code",
   "execution_count": 3,
   "id": "34ba04e5",
   "metadata": {},
   "outputs": [
    {
     "data": {
      "text/plain": [
       "(864863, 74)"
      ]
     },
     "execution_count": 3,
     "metadata": {},
     "output_type": "execute_result"
    }
   ],
   "source": [
    "df.shape"
   ]
  },
  {
   "cell_type": "markdown",
   "id": "c7b22068",
   "metadata": {},
   "source": [
    "#### (2) Limit the dataset to the following columns: [T_degC, Salnty, STheta] and then remove all NaN and NA values \n",
    "(Hint: Pandas has a method for this), and Verify the shape is: (812174, 3)"
   ]
  },
  {
   "cell_type": "code",
   "execution_count": 4,
   "id": "915281e8",
   "metadata": {},
   "outputs": [],
   "source": [
    "df = df[['T_degC', 'Salnty', 'STheta']] "
   ]
  },
  {
   "cell_type": "code",
   "execution_count": 5,
   "id": "95a3f151",
   "metadata": {},
   "outputs": [],
   "source": [
    "df = df.dropna()"
   ]
  },
  {
   "cell_type": "code",
   "execution_count": 6,
   "id": "2b2fd879",
   "metadata": {},
   "outputs": [
    {
     "data": {
      "text/plain": [
       "(812174, 3)"
      ]
     },
     "execution_count": 6,
     "metadata": {},
     "output_type": "execute_result"
    }
   ],
   "source": [
    "df.shape"
   ]
  },
  {
   "cell_type": "markdown",
   "id": "b60acef8",
   "metadata": {},
   "source": [
    "#### (3) Build the following plots using matplotlib: (a) Scatter: Salnty (salinity of water) vs T_degC, (b) Scatter: STheta (density of water) vs T_degC3) "
   ]
  },
  {
   "cell_type": "code",
   "execution_count": 7,
   "id": "c37d089b",
   "metadata": {},
   "outputs": [
    {
     "data": {
      "image/png": "[encoded data removed]",
      "text/plain": [
       "<Figure size 432x288 with 1 Axes>"
      ]
     },
     "metadata": {
      "needs_background": "light"
     },
     "output_type": "display_data"
    }
   ],
   "source": [
    "plt.scatter(df['T_degC'], df['Salnty'])\n",
    "plt.xlabel('T_degC')\n",
    "plt.ylabel('Salnty (Salinity of water)')\n",
    "plt.show()"
   ]
  },
  {
   "cell_type": "code",
   "execution_count": 8,
   "id": "bf34c515",
   "metadata": {},
   "outputs": [
    {
     "data": {
      "image/png": "[encoded data removed]",
      "text/plain": [
       "<Figure size 432x288 with 1 Axes>"
      ]
     },
     "metadata": {
      "needs_background": "light"
     },
     "output_type": "display_data"
    }
   ],
   "source": [
    "plt.scatter(df['T_degC'], df['STheta'])\n",
    "plt.xlabel('T_degC')\n",
    "plt.ylabel('STheta (Density of water)')\n",
    "plt.show()"
   ]
  },
  {
   "cell_type": "markdown",
   "id": "ec26dca8",
   "metadata": {},
   "source": [
    "#### (4) Build the following plot using seaborn: (a) Distribution of T_degC\n",
    "(hint: distplot will be helpful here)"
   ]
  },
  {
   "cell_type": "code",
   "execution_count": 9,
   "id": "b0e2b45a",
   "metadata": {},
   "outputs": [
    {
     "name": "stderr",
     "output_type": "stream",
     "text": [
      "/Users/parthbansal/opt/anaconda3/lib/python3.9/site-packages/seaborn/distributions.py:2619: FutureWarning: `distplot` is a deprecated function and will be removed in a future version. Please adapt your code to use either `displot` (a figure-level function with similar flexibility) or `histplot` (an axes-level function for histograms).\n",
      "  warnings.warn(msg, FutureWarning)\n"
     ]
    },
    {
     "data": {
      "image/png": "[encoded data removed]",
      "text/plain": [
       "<Figure size 432x288 with 1 Axes>"
      ]
     },
     "metadata": {
      "needs_background": "light"
     },
     "output_type": "display_data"
    }
   ],
   "source": [
    "sns.distplot(df, kde=True)\n",
    "sns.despine()\n",
    "plt.xlabel('T_degC')\n",
    "plt.show()"
   ]
  },
  {
   "cell_type": "code",
   "execution_count": 10,
   "id": "bdfe864f",
   "metadata": {},
   "outputs": [
    {
     "data": {
      "image/png": "[encoded data removed]",
      "text/plain": [
       "<Figure size 432x288 with 1 Axes>"
      ]
     },
     "metadata": {
      "needs_background": "light"
     },
     "output_type": "display_data"
    }
   ],
   "source": [
    "sns.histplot(df, kde=True)\n",
    "sns.despine()\n",
    "plt.xlabel('T_degC')\n",
    "plt.show()"
   ]
  },
  {
   "cell_type": "markdown",
   "id": "a51e784b",
   "metadata": {},
   "source": [
    "#### (5) Remove obvious outliers from step 3b: Shape for clean data will be: (812168, 3)\n",
    "(Hint: Just looking to remove extreme STheta values - please post on Canvas if struggling with this section.)"
   ]
  },
  {
   "cell_type": "code",
   "execution_count": 11,
   "id": "a0d64808",
   "metadata": {},
   "outputs": [
    {
     "data": {
      "text/plain": [
       "(812174, 3)"
      ]
     },
     "execution_count": 11,
     "metadata": {},
     "output_type": "execute_result"
    }
   ],
   "source": [
    "df.shape"
   ]
  },
  {
   "cell_type": "code",
   "execution_count": 12,
   "id": "349ec419",
   "metadata": {},
   "outputs": [
    {
     "data": {
      "text/plain": [
       "count    812174.000000\n",
       "mean         25.819394\n",
       "std           1.167787\n",
       "min          20.934000\n",
       "25%          24.965000\n",
       "50%          25.996000\n",
       "75%          26.646000\n",
       "max         250.784000\n",
       "Name: STheta, dtype: float64"
      ]
     },
     "execution_count": 12,
     "metadata": {},
     "output_type": "execute_result"
    }
   ],
   "source": [
    "df['STheta'].describe()"
   ]
  },
  {
   "cell_type": "code",
   "execution_count": 13,
   "id": "31c1b381",
   "metadata": {},
   "outputs": [
    {
     "data": {
      "text/plain": [
       "(812168, 3)"
      ]
     },
     "execution_count": 13,
     "metadata": {},
     "output_type": "execute_result"
    }
   ],
   "source": [
    "df = df[df['STheta'] <= 30]\n",
    "df.shape"
   ]
  },
  {
   "cell_type": "markdown",
   "id": "44e7cc32",
   "metadata": {},
   "source": [
    "#### (6) Plot 3b again – does it look better? Explain!"
   ]
  },
  {
   "cell_type": "code",
   "execution_count": 14,
   "id": "0c46d8da",
   "metadata": {},
   "outputs": [
    {
     "data": {
      "image/png": "[encoded data removed]",
      "text/plain": [
       "<Figure size 432x288 with 1 Axes>"
      ]
     },
     "metadata": {
      "needs_background": "light"
     },
     "output_type": "display_data"
    }
   ],
   "source": [
    "plt.scatter(df['T_degC'], df['STheta'])\n",
    "plt.xlabel('T_degC')\n",
    "plt.ylabel('STheta (Density of water)')\n",
    "plt.show()"
   ]
  },
  {
   "cell_type": "markdown",
   "id": "56d5f461",
   "metadata": {},
   "source": [
    "The plot definitely looks better. Excluding the data points with STheta values above 30 has improved the plot's suitability for analysis by removing extreme outliers."
   ]
  },
  {
   "cell_type": "markdown",
   "id": "0a4febe6",
   "metadata": {},
   "source": [
    "### Part B: Train & Test Split"
   ]
  },
  {
   "cell_type": "code",
   "execution_count": 15,
   "id": "5af45a21",
   "metadata": {},
   "outputs": [],
   "source": [
    "X = df[['Salnty', 'STheta']]\n",
    "y = df['T_degC']\n",
    "\n",
    "X_train, X_test, y_train, y_test = train_test_split(X, y, test_size = 0.2, random_state = 42)"
   ]
  },
  {
   "cell_type": "markdown",
   "id": "fda1e450",
   "metadata": {},
   "source": [
    "### Part C: Linear Regression Using Normal Equation - Coded In Python"
   ]
  },
  {
   "cell_type": "markdown",
   "id": "f2ba8747",
   "metadata": {},
   "source": [
    "#### (1) Build the normal equation using numpy & fit using your training data (X_train & y_train)"
   ]
  },
  {
   "cell_type": "code",
   "execution_count": 16,
   "id": "921a3adc",
   "metadata": {},
   "outputs": [],
   "source": [
    "X_train = np.column_stack((np.ones(len(X_train)), X_train))"
   ]
  },
  {
   "cell_type": "code",
   "execution_count": 17,
   "id": "684c97fb",
   "metadata": {},
   "outputs": [
    {
     "data": {
      "text/plain": [
       "array([[ 1.    , 33.5593, 24.7422],\n",
       "       [ 1.    , 33.485 , 24.089 ],\n",
       "       [ 1.    , 33.453 , 25.586 ],\n",
       "       ...,\n",
       "       [ 1.    , 34.22  , 26.347 ],\n",
       "       [ 1.    , 34.044 , 26.409 ],\n",
       "       [ 1.    , 33.47  , 24.458 ]])"
      ]
     },
     "execution_count": 17,
     "metadata": {},
     "output_type": "execute_result"
    }
   ],
   "source": [
    "X_train"
   ]
  },
  {
   "cell_type": "code",
   "execution_count": 18,
   "id": "977dd760",
   "metadata": {},
   "outputs": [],
   "source": [
    "theta = np.linalg.inv(X_train.T @ X_train) @ X_train.T @ y_train"
   ]
  },
  {
   "cell_type": "markdown",
   "id": "e0c80f0a",
   "metadata": {},
   "source": [
    "#### (2) Print out the coefficients - we will need to compare these to the output in Part D"
   ]
  },
  {
   "cell_type": "code",
   "execution_count": 19,
   "id": "a6c22eb7",
   "metadata": {},
   "outputs": [
    {
     "name": "stdout",
     "output_type": "stream",
     "text": [
      "Coefficients: [35.64451188  3.11151204 -5.03907257]\n"
     ]
    }
   ],
   "source": [
    "print(\"Coefficients:\", theta)"
   ]
  },
  {
   "cell_type": "markdown",
   "id": "54cce327",
   "metadata": {},
   "source": [
    "#### (3) Predict T_degC for the test data using the fitted values in b"
   ]
  },
  {
   "cell_type": "code",
   "execution_count": 20,
   "id": "7453e517",
   "metadata": {},
   "outputs": [],
   "source": [
    "X_test = np.column_stack((np.ones(len(X_test)), X_test))\n",
    "y_pred = X_test @ theta"
   ]
  },
  {
   "cell_type": "code",
   "execution_count": 21,
   "id": "17b63d54",
   "metadata": {},
   "outputs": [
    {
     "data": {
      "text/plain": [
       "array([ 7.88437556,  7.14969722,  5.22668207, ...,  7.14752462,\n",
       "       16.11974133, 15.64019849])"
      ]
     },
     "execution_count": 21,
     "metadata": {},
     "output_type": "execute_result"
    }
   ],
   "source": [
    "y_pred"
   ]
  },
  {
   "cell_type": "markdown",
   "id": "864df4bb",
   "metadata": {},
   "source": [
    "#### (4) Calculate the following for the test data: mean squared error, r-squared, explained variance"
   ]
  },
  {
   "cell_type": "code",
   "execution_count": 22,
   "id": "e14a6ad1",
   "metadata": {},
   "outputs": [
    {
     "name": "stdout",
     "output_type": "stream",
     "text": [
      "Mean Squared Error: 0.2337830143180255\n",
      "R-Squared: 0.9868919565634323\n",
      "Explained Variance Score: 0.9868919614560818\n"
     ]
    }
   ],
   "source": [
    "mse = mean_squared_error(y_test, y_pred)\n",
    "r2 = r2_score(y_test, y_pred)\n",
    "evs = explained_variance_score(y_test, y_pred)\n",
    "\n",
    "print(\"Mean Squared Error:\", mse)\n",
    "print(\"R-Squared:\", r2)\n",
    "print(\"Explained Variance Score:\", evs)"
   ]
  },
  {
   "cell_type": "markdown",
   "id": "e81d42a5",
   "metadata": {},
   "source": [
    "#### (5) Create a scatterplot that shows actual versus predicted values for the T_degC"
   ]
  },
  {
   "cell_type": "code",
   "execution_count": 23,
   "id": "a2153cae",
   "metadata": {},
   "outputs": [
    {
     "data": {
      "image/png": "[encoded data removed]",
      "text/plain": [
       "<Figure size 432x288 with 1 Axes>"
      ]
     },
     "metadata": {
      "needs_background": "light"
     },
     "output_type": "display_data"
    }
   ],
   "source": [
    "plt.scatter(y_test, y_pred)\n",
    "plt.title(\"Actual vs. Predicted T_degC\")\n",
    "plt.xlabel(\"Actual T_degC\")\n",
    "plt.ylabel(\"Predicted T_degC\")\n",
    "plt.show()"
   ]
  },
  {
   "cell_type": "markdown",
   "id": "7059b090",
   "metadata": {},
   "source": [
    "### Part D: Using sklearn API"
   ]
  },
  {
   "cell_type": "markdown",
   "id": "c630d294",
   "metadata": {},
   "source": [
    "#### (1) Create an instance of the LinearRegression class called \"lin_reg\". Fit lin_reg using X_train & y_train."
   ]
  },
  {
   "cell_type": "code",
   "execution_count": 24,
   "id": "f90d2cc2",
   "metadata": {},
   "outputs": [],
   "source": [
    "lin_reg = LinearRegression()"
   ]
  },
  {
   "cell_type": "code",
   "execution_count": 25,
   "id": "13965d53",
   "metadata": {},
   "outputs": [
    {
     "data": {
      "text/plain": [
       "LinearRegression()"
      ]
     },
     "execution_count": 25,
     "metadata": {},
     "output_type": "execute_result"
    }
   ],
   "source": [
    "lin_reg.fit(X_train, y_train)"
   ]
  },
  {
   "cell_type": "markdown",
   "id": "e11f6c06",
   "metadata": {},
   "source": [
    "#### (2) Print out the coefficients (including the intercept)"
   ]
  },
  {
   "cell_type": "code",
   "execution_count": 26,
   "id": "28a49152",
   "metadata": {},
   "outputs": [
    {
     "name": "stdout",
     "output_type": "stream",
     "text": [
      "Coefficients: [ 0.          3.11151204 -5.03907257]\n"
     ]
    }
   ],
   "source": [
    "print(\"Coefficients:\", lin_reg.coef_)"
   ]
  },
  {
   "cell_type": "code",
   "execution_count": 27,
   "id": "8b7efda0",
   "metadata": {},
   "outputs": [
    {
     "name": "stdout",
     "output_type": "stream",
     "text": [
      "Intercept: 35.644511878050054\n"
     ]
    }
   ],
   "source": [
    "print(\"Intercept:\", lin_reg.intercept_)"
   ]
  },
  {
   "cell_type": "markdown",
   "id": "4a4cdeb1",
   "metadata": {},
   "source": [
    "#### (3) Predict T_degC for the test data using the fitted values in b."
   ]
  },
  {
   "cell_type": "code",
   "execution_count": 28,
   "id": "61bd3c96",
   "metadata": {},
   "outputs": [],
   "source": [
    "y_pred_sklearn = lin_reg.predict(X_test)"
   ]
  },
  {
   "cell_type": "markdown",
   "id": "d716aac3",
   "metadata": {},
   "source": [
    "#### (4) Calculate the following for the test data: mean squared error, r-squared, explained variance"
   ]
  },
  {
   "cell_type": "code",
   "execution_count": 29,
   "id": "2a288c37",
   "metadata": {},
   "outputs": [
    {
     "name": "stdout",
     "output_type": "stream",
     "text": [
      "Mean Squared Error: 0.2337830143180255\n",
      "R-Squared: 0.9868919565634323\n",
      "Explained Variance Score: 0.9868919614560818\n"
     ]
    }
   ],
   "source": [
    "mse = mean_squared_error(y_test, y_pred)\n",
    "r2 = r2_score(y_test, y_pred)\n",
    "evs = explained_variance_score(y_test, y_pred)\n",
    "\n",
    "print(\"Mean Squared Error:\", mse)\n",
    "print(\"R-Squared:\", r2)\n",
    "print(\"Explained Variance Score:\", evs)"
   ]
  },
  {
   "cell_type": "markdown",
   "id": "30c0e22f",
   "metadata": {},
   "source": [
    "#### (5) Create a scatterplot that shows actual versus predicted values for the T_degC."
   ]
  },
  {
   "cell_type": "code",
   "execution_count": 30,
   "id": "3e632a41",
   "metadata": {},
   "outputs": [
    {
     "data": {
      "image/png": "[encoded data removed]",
      "text/plain": [
       "<Figure size 432x288 with 1 Axes>"
      ]
     },
     "metadata": {
      "needs_background": "light"
     },
     "output_type": "display_data"
    }
   ],
   "source": [
    "plt.scatter(y_test, y_pred_sklearn)\n",
    "plt.xlabel('Actual T_degC')\n",
    "plt.ylabel('Predicted T_degC')\n",
    "plt.title('Actual vs Predicted T_degC')\n",
    "plt.show()"
   ]
  },
  {
   "cell_type": "markdown",
   "id": "158dd902",
   "metadata": {},
   "source": [
    "### Part E: Conceptual Questions"
   ]
  },
  {
   "cell_type": "markdown",
   "id": "67163559",
   "metadata": {},
   "source": [
    "**Why is it important to have a test set?**\n",
    "To evaluate our model and ensure it can generalize (no overfitting/underfitting) on unseen data.\n",
    "\n",
    "\n",
    "**If the normal equation always provides a solution, when would we not want to use it?**\n",
    "It can be very expensive computationally to compute the inverse of large matrix (very large dataset).\n",
    "\n",
    "\n",
    "**How might we improve the fit of our models from Part C & D?**\n",
    "We can try different regression models (ex. ridge) or we can add more features. \n",
    "\n",
    "\n",
    "**As we move further into Machine Learning, we will need to continually consider the bias-variance tradeoff. Explain what bias is and what variance is in regards to the bias-variance tradeoff.**\n",
    "Bias refers to a model that is very simple (underfitting) and doesn't compute the patterns in teh data. Variance is when the the model is too complex (overftting). To create a good predictive model, it is important to strike a balance between bias and variance. One wants to avoid underfitting and overfitting, and find a model that can accurately predict outcomes on unseen data (generalize).\n",
    "\n",
    "\n",
    "\n",
    "**In a linear regression model, how might we reduce bias?**\n",
    "We can add more features to our data to develop more intrinsic relationships among the features, and make the model more complex. \n",
    "\n",
    "\n",
    "**In a linear regression model, how might we reduce variance?** \n",
    "We can use cross-validation techniques to find the values that produce the best performance on the test set. We can also use regularization techniques. "
   ]
  },
  {
   "cell_type": "code",
   "execution_count": null,
   "id": "fee363e6",
   "metadata": {},
   "outputs": [],
   "source": []
  }
 ],
 "metadata": {
  "kernelspec": {
   "display_name": "Python 3 (ipykernel)",
   "language": "python",
   "name": "python3"
  },
  "language_info": {
   "codemirror_mode": {
    "name": "ipython",
    "version": 3
   },
   "file_extension": ".py",
   "mimetype": "text/x-python",
   "name": "python",
   "nbconvert_exporter": "python",
   "pygments_lexer": "ipython3",
   "version": "3.9.12"
  }
 },
 "nbformat": 4,
 "nbformat_minor": 5
}
